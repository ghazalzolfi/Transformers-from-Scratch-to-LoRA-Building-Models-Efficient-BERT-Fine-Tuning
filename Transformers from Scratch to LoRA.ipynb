{
  "cells": [
    {
      "cell_type": "markdown",
      "metadata": {
        "id": "VivaFsd3Q6cj"
      },
      "source": [
        "<br>\n",
        "<font>\n",
        "<div dir=ltr align=center>\n",
        "<img src=\"https://cdn.freebiesupply.com/logos/large/2x/sharif-logo-png-transparent.png\" width=150 height=150> <br>\n",
        "<font color=0F5298 size=7>\n",
        "    Machine learning <br>\n",
        "<font color=2565AE size=5>\n",
        "    Computer Engineering Department <br>\n",
        "    Fall 2024<br>\n",
        "<font color=3C99D size=5>\n",
        "    Practical Assignment 5 - NLP - Transformer & Bert <br>\n",
        "</div>\n",
        "<div dir=ltr align=center>\n",
        "<font color=0CBCDF size=4>\n",
        "   &#x1F349; Masoud Tahmasbi  &#x1F349;  &#x1F353; Arash Ziyaei &#x1F353;\n",
        "<br>\n",
        "<font color=0CBCDF size=4>\n",
        "   &#x1F335; Amirhossein Akbari  &#x1F335;\n",
        "</div>\n",
        "\n",
        "____"
      ]
    },
    {
      "cell_type": "markdown",
      "metadata": {
        "id": "k15QziPnmC6d"
      },
      "source": [
        "<font color=9999FF size=4>\n",
        "&#x1F388; Full Name : Ghazal Zolfimoselo\n",
        "<br>\n",
        "<font color=9999FF size=4>\n",
        "&#x1F388; Student Number : 401104146"
      ]
    },
    {
      "cell_type": "markdown",
      "metadata": {
        "id": "IOfpEN2xmbN8"
      },
      "source": [
        "<font color=0080FF size=3>\n",
        "This notebook covers two key topics. First, we implement a transformer model from scratch and apply it to a specific task. Second, we fine-tune the BERT model using LoRA for efficient adaptation to a downstream task.\n",
        "</font>\n",
        "<br>\n",
        "\n",
        "**Note:**\n",
        "<br>\n",
        "<font color=66B2FF size=2>In this notebook, you are free to use any function or model from PyTorch to assist with the implementation. However, TensorFlow is not permitted for this exercise. This ensures consistency and alignment with the tools being focused on.</font>\n",
        "<br>\n",
        "<font color=red size=3>**Run All Cells Before Submission**</font>: <font color=FF99CC size=2>Before saving and submitting your notebook, please ensure you run all cells from start to finish. This practice guarantees that your notebook is self-consistent and can be evaluated correctly by others.</font>"
      ]
    },
    {
      "cell_type": "markdown",
      "metadata": {
        "id": "SpvvM0995ieR"
      },
      "source": [
        "# Section 1: Transformer\n",
        "\n",
        "The transformer architecture consists of two main components: an encoder and a decoder. Each of these components is made up of multiple layers that include self-attention mechanisms and feedforward neural networks. The self-attention mechanism is central to the transformer, as it enables the model to assess the importance of different words in a sentence by considering their relationships with one another.\n",
        "\n",
        "\n",
        "In this assignment, you should design a transformer model from scratch. You are required to implement the Encoder and Decoder components of a Transformer model."
      ]
    },
    {
      "cell_type": "code",
      "execution_count": null,
      "metadata": {
        "id": "dzIob6-Gq7Lw"
      },
      "outputs": [],
      "source": [
        "# Importing libraries\n",
        "\n",
        "# PyTorch\n",
        "import torch\n",
        "import torch.nn as nn\n",
        "from torch.utils.data import Dataset, DataLoader, random_split\n",
        "from torch.utils.tensorboard import SummaryWriter\n",
        "\n",
        "# Math\n",
        "import math\n",
        "\n",
        "# HuggingFace libraries\n",
        "! pip install datasets\n",
        "from IPython.display import clear_output\n",
        "clear_output()\n",
        "\n",
        "from datasets import load_dataset\n",
        "from tokenizers import Tokenizer\n",
        "from tokenizers.models import WordLevel\n",
        "from tokenizers.trainers import WordLevelTrainer\n",
        "from tokenizers.pre_tokenizers import Whitespace\n",
        "\n",
        "# Pathlib\n",
        "from pathlib import Path\n",
        "\n",
        "# typing\n",
        "from typing import Any\n",
        "\n",
        "# Library for progress bars in loops\n",
        "from tqdm import tqdm\n",
        "\n",
        "# Importing library of warnings\n",
        "import warnings"
      ]
    },
    {
      "cell_type": "markdown",
      "metadata": {
        "id": "-71SfIAJprox"
      },
      "source": [
        "## Part 1: Input Embeddings\n",
        "<p style = \"font-family: 'Helvetica Neue', Arial, sans-serif; text-align: left; font-size: 17.5px\">When we observe the Transformer architecture image above, we can see that the Embeddings represent the first step of both blocks.</p>\n",
        "\n",
        "<p style = \"font-family: 'Helvetica Neue', Arial, sans-serif; text-align: left; font-size: 17.5px\">The <code>InputEmbedding</code> class below is responsible for converting the input text into numerical vectors of <code>d_model</code> dimensions. To prevent that our input embeddings become extremely small, we normalize them by multiplying them by the $\\sqrt{d_{model}}$.</p>\n",
        "\n",
        "<p style = \"font-family: 'Helvetica Neue', Arial, sans-serif; text-align: left; font-size: 17.5px\">In the image below, we can see how the embeddings are created. First, we have a sentence that gets split into tokens—we will explore what tokens are later on—. Then, the token IDs—identification numbers—are transformed into the embeddings, which are high-dimensional vectors.</p>"
      ]
    },
    {
      "cell_type": "code",
      "execution_count": null,
      "metadata": {
        "id": "J-pyrJlu4Nl7"
      },
      "outputs": [],
      "source": [
        "######################  TODO  ########################\n",
        "######################  TODO  ########################\n",
        "\n",
        "# - Define a class `InputEmbeddings` inheriting from `nn.Module`\n",
        "# - Initialize the class with two parameters:\n",
        "#   1. `d_model`: Dimension of the embedding vectors\n",
        "#   2. `vocab_size`: Size of the vocabulary\n",
        "# - Create an embedding layer using `nn.Embedding` to map input indices to dense vectors\n",
        "\n",
        "# - In the `forward` method:\n",
        "#   1. Pass the input `x` through the embedding layer\n",
        "#   2. Scale the embeddings by the square root of `d_model` for variance normalization\n",
        "\n",
        "######################  TODO  ########################\n",
        "######################  TODO  ########################\n",
        "\n",
        "class InputEmbeddings(nn.Module):\n",
        "\n",
        "    def __init__(self, d_model, vocab_size):\n",
        "        super().__init__()\n",
        "        self.d_model = d_model\n",
        "        self.vocab_size = vocab_size\n",
        "        self.embedding_layer = nn.Embedding(vocab_size, d_model)\n",
        "\n",
        "    def forward(self, x):\n",
        "        scaling_factor = math.sqrt(self.d_model)\n",
        "        return self.embedding_layer(x) * scaling_factor\n"
      ]
    },
    {
      "cell_type": "markdown",
      "metadata": {
        "id": "RWBlo2XorJGW"
      },
      "source": [
        "## Part 2: positional encoding\n",
        "<p style = \"font-family: 'Helvetica Neue', Arial, sans-serif; text-align: left; font-size: 17.5px\">In the original paper, the authors add the positional encodings to the input embeddings at the bottom of both the encoder and decoder blocks so the model can have some information about the relative or absolute position of the tokens in the sequence. The positional encodings have the same dimension $d_{model}$ as the embeddings, so that the two vectors can be summed and we can combine the semantic content from the word embeddings and positional information from the positional encodings.</p>\n",
        "\n",
        "<p style = \"font-family: 'Helvetica Neue', Arial, sans-serif; text-align: left; font-size: 17.5px\">In the <code>PositionalEncoding</code> class below, we will create a matrix of positional encodings <code>pe</code> with dimensions <code>(seq_len, d_model)</code>. We will start by filling it with $0$s.We will then apply the sine function to even indices of the positional encoding matrix while the cosine function is applied to the odd ones.</p>\n",
        "\n",
        "<p style=\"\n",
        "    margin-bottom: 5;\n",
        "    font-size: 22px;\n",
        "    font-weight: 300;\n",
        "    font-family: 'Helvetica Neue', sans-serif;\n",
        "    color: #000000;\n",
        "  \">\n",
        "    \\begin{equation}\n",
        "    \\text{Odd Indices } (2i + 1): \\quad \\text{PE(pos, } 2i + 1) = \\cos\\left(\\frac{\\text{pos}}{10000^{2i / d_{model}}}\\right)\n",
        "    \\end{equation}\n",
        "</p>\n",
        "\n",
        "<p style = \"font-family: 'Helvetica Neue', Arial, sans-serif; text-align: left; font-size: 17.5px\">We apply the sine and cosine functions because it allows the model to determine the position of a word based on the position of other words in the sequence, since for any fixed offset $k$, $PE_{pos + k}$ can be represented as a linear function of $PE_{pos}$. This happens due to the properties of sine and cosine functions, where a shift in the input results in a predictable change in the output.</p>"
      ]
    },
    {
      "cell_type": "code",
      "execution_count": null,
      "metadata": {
        "id": "4ZG5DhVcrVVm"
      },
      "outputs": [],
      "source": [
        "######################  TODO  ########################\n",
        "######################  TODO  ########################\n",
        "\n",
        "# - Create a `PositionalEncoding` class inheriting from `nn.Module`\n",
        "# - Initialize with `d_model`, `seq_len`, and `dropout`\n",
        "# - Generate a positional encoding matrix using sine and cosine functions\n",
        "# - Register the positional encoding as a non-trainable buffer\n",
        "# - In `forward`, add positional encoding to input and apply dropout\n",
        "\n",
        "######################  TODO  ########################\n",
        "######################  TODO  ########################\n",
        "\n",
        "class PositionalEncoding(nn.Module):\n",
        "\n",
        "    def __init__(self, d_model, seq_len, dropout):\n",
        "        super().__init__()\n",
        "        self.d_model = d_model\n",
        "        self.seq_len = seq_len\n",
        "        self.dropout_layer = nn.Dropout(dropout)\n",
        "        positional_encodings = torch.zeros(seq_len, d_model)\n",
        "        scaling_factors = torch.exp(torch.arange(0, d_model, 2).float() * (-math.log(10 ** 4) / d_model))\n",
        "\n",
        "        positions = torch.arange(0, seq_len, dtype=torch.float).unsqueeze(1)\n",
        "        positional_encodings[:, ::2] = torch.sin(positions * scaling_factors)\n",
        "        positional_encodings[:, 1::2] = torch.cos(positions * scaling_factors)\n",
        "        positional_encodings = positional_encodings.unsqueeze(0)\n",
        "        self.register_buffer('positional_encodings', positional_encodings)\n",
        "\n",
        "    def forward(self, x):\n",
        "        x = x + self.positional_encodings[:, :x.size(1), :].requires_grad_(False)\n",
        "        return self.dropout_layer(x)"
      ]
    },
    {
      "cell_type": "markdown",
      "metadata": {
        "id": "T92iydQErh-P"
      },
      "source": [
        "## Part 3: layer normalization\n",
        "<p style = \"font-family: 'Helvetica Neue', Arial, sans-serif; text-align: left; font-size: 17.5px\">When we look at the encoder and decoder blocks, we see several normalization layers called <b><i>Add &amp; Norm</i></b>.</p>\n",
        "\n",
        "<p style = \"font-family: 'Helvetica Neue', Arial, sans-serif; text-align: left; font-size: 17.5px\">The <code>LayerNormalization</code> class below performs layer normalization on the input data. During its forward pass, we compute the mean and standard deviation of the input data. We then normalize the input data by subtracting the mean and dividing by the standard deviation plus a small number called epsilon to avoid any divisions by zero. This process results in a normalized output with a mean 0 and a standard deviation 1.</p>\n",
        "\n",
        "<p style = \"font-family: 'Helvetica Neue', Arial, sans-serif; text-align: left; font-size: 17.5px\">We will then scale the normalized output by a learnable parameter <code>alpha</code> and add a learnable parameter called <code>bias</code>. The training process is responsible for adjusting these parameters. The final result is a layer-normalized tensor, which ensures that the scale of the inputs to layers in the network is consistent.</p>"
      ]
    },
    {
      "cell_type": "code",
      "execution_count": null,
      "metadata": {
        "id": "kVGQRsmKrwZu"
      },
      "outputs": [],
      "source": [
        "######################  TODO  ########################\n",
        "######################  TODO  ########################\n",
        "\n",
        "# - Create a `LayerNormalization` class inheriting from `nn.Module`\n",
        "# - Initialize with `eps` (small value to prevent division by zero)\n",
        "# - Define trainable parameters:\n",
        "#   1. `alpha`: Scaling factor initialized to 1\n",
        "#   2. `bias`: Offset initialized to 0\n",
        "\n",
        "# - In `forward`, perform layer normalization:\n",
        "#   1. Compute mean and standard deviation along the last dimension\n",
        "#   2. Normalize the input using the computed mean and std\n",
        "#   3. Scale and shift using `alpha` and `bias`\n",
        "\n",
        "######################  TODO  ########################\n",
        "######################  TODO  ########################\n",
        "\n",
        "class LayerNormalization(nn.Module):\n",
        "\n",
        "    def __init__(self, eps = 10**-5):\n",
        "        super().__init__()\n",
        "        self.eps = eps\n",
        "        self.alpha = nn.Parameter(torch.ones(1))\n",
        "        self.bias = nn.Parameter(torch.zeros(1))\n",
        "\n",
        "    def forward(self, x):\n",
        "        mean_value = x.mean(dim=-1, keepdim=True)\n",
        "        std_dev = x.std(dim=-1, keepdim=True)\n",
        "        q = std_dev + self.eps\n",
        "        p = x - mean_value\n",
        "        return self.alpha * p / q + self.bias\n",
        "\n"
      ]
    },
    {
      "cell_type": "markdown",
      "metadata": {
        "id": "U-IbSGQMr1Ye"
      },
      "source": [
        "## Part 4: Feed Forward Network\n",
        "<p style = \"font-family: 'Helvetica Neue', Arial, sans-serif; text-align: left; font-size: 17.5px\">In the fully connected feed-forward network, we apply two linear transformations with a ReLU activation in between. We can mathematically represent this operation as:</p>\n",
        "\n",
        "<p style=\"\n",
        "    margin-bottom: 5;\n",
        "    font-size: 22px;\n",
        "    font-weight: 300;\n",
        "    font-family: 'Helvetica Neue', sans-serif;\n",
        "    color: #000000;\n",
        "  \">\n",
        "    \\begin{equation}\n",
        "    \\text{FFN}(x) = \\max(0, xW_1 + b_1)W_2 + b_2\n",
        "    \\end{equation}\n",
        "</p>\n",
        "\n",
        "\n",
        "<p style = \"font-family: 'Helvetica Neue', Arial, sans-serif; text-align: left; font-size: 17.5px\">$W_1$ and $W_2$ are the weights, while $b_1$ and $b_2$ are the biases of the two linear transformations.</p>\n",
        "\n",
        "<p style = \"font-family: 'Helvetica Neue', Arial, sans-serif; text-align: left; font-size: 17.5px\">In the <code>FeedForwardBlock</code> below, we will define the two linear transformations—<code>self.linear_1</code> and <code>self.linear_2</code>—and the inner-layer <code>d_ff</code>. The input data will first pass through the <code>self.linear_1</code> transformation, which increases its dimensionality from <code>d_model</code> to <code>d_ff</code>. The output of this operation passes through the ReLU activation function, which introduces non-linearity so the network can learn more complex patterns, and the <code>self.dropout</code> layer is applied to mitigate overfitting. The final operation is the <code>self.linear_2</code> transformation to the dropout-modified tensor, which transforms it back to the original <code>d_model</code> dimension.</p>"
      ]
    },
    {
      "cell_type": "code",
      "execution_count": null,
      "metadata": {
        "id": "N3H8kyccsEUW"
      },
      "outputs": [],
      "source": [
        "######################  TODO  ########################\n",
        "######################  TODO  ########################\n",
        "\n",
        "# - Create a `FeedForwardBlock` class inheriting from `nn.Module`\n",
        "# - Initialize with `d_model`, `d_ff`, and `dropout`\n",
        "# - Define:\n",
        "#   1. `linear_1`: Linear layer projecting from `d_model` to `d_ff`\n",
        "#   2. Dropout layer for regularization\n",
        "#   3. `linear_2`: Linear layer projecting back from `d_ff` to `d_model`\n",
        "\n",
        "# - In `forward`, apply the following steps:\n",
        "#   1. Pass input through `linear_1` followed by ReLU activation\n",
        "#   2. Apply dropout\n",
        "#   3. Pass through `linear_2` to return to original dimensions\n",
        "\n",
        "######################  TODO  ########################\n",
        "######################  TODO  ########################\n",
        "\n",
        "class FeedForwardBlock(nn.Module):\n",
        "\n",
        "    def __init__(self, d_model, d_ff, dropout):\n",
        "        super().__init__()\n",
        "        self.linear_1 = nn.Linear(d_model, d_ff)\n",
        "        self.dropout_layer = nn.Dropout(dropout)\n",
        "        self.linear_2 = nn.Linear(d_ff, d_model)\n",
        "\n",
        "    def forward(self, x):\n",
        "        activated = torch.relu(self.linear_1(x))\n",
        "        dropped_out = self.dropout_layer(activated)\n",
        "        return self.linear_2(dropped_out)\n",
        "\n"
      ]
    },
    {
      "cell_type": "markdown",
      "metadata": {
        "id": "YEa1kF6csIvV"
      },
      "source": [
        "## Part 5: Multi Head Attention\n",
        "<p style = \"font-family: 'Helvetica Neue', Arial, sans-serif; text-align: left; font-size: 17.5px\">The Multi-Head Attention is the most crucial component of the Transformer. It is responsible for helping the model to understand complex relationships and patterns in the data.</p>\n",
        "\n",
        "<p style = \"font-family: 'Helvetica Neue', Arial, sans-serif; text-align: left; font-size: 17.5px\">The image below displays how the Multi-Head Attention works. It doesn't include <code>batch</code> dimension because it only illustrates the process for one single sentence.</p>\n",
        "\n",
        "<p style = \"font-family: 'Helvetica Neue', Arial, sans-serif; text-align: left; font-size: 17.5px\">The Multi-Head Attention block receives the input data split into queries, keys, and values organized into matrices $Q$, $K$, and $V$. Each matrix contains different facets of the input, and they have the same dimensions as the input.</p>\n",
        "\n",
        "<p style = \"font-family: 'Helvetica Neue', Arial, sans-serif; text-align: left; font-size: 17.5px\">We then linearly transform each matrix by their respective weight matrices $W^Q$, $W^K$, and $W^V$. These transformations will result in new matrices $Q'$, $K'$, and $V'$, which will be split into smaller matrices corresponding to different heads $h$, allowing the model to attend to information from different representation subspaces in parallel. This split creates multiple sets of queries, keys, and values for each head.</p>\n",
        "\n",
        "<p style = \"font-family: 'Helvetica Neue', Arial, sans-serif; text-align: left; font-size: 17.5px\">Finally, we concatenate every head into an $H$ matrix, which is then transformed by another weight matrix $W^o$ to produce the multi-head attention output, a matrix $MH-A$ that retains the input dimensionality.</p>"
      ]
    },
    {
      "cell_type": "code",
      "execution_count": null,
      "metadata": {
        "id": "6ujcqPp1sOU9"
      },
      "outputs": [],
      "source": [
        "######################  TODO  ########################\n",
        "######################  TODO  ########################\n",
        "\n",
        "# - Create a `MultiHeadAttentionBlock` class inheriting from `nn.Module`\n",
        "# - Initialize with `d_model` (model dimensions), `h` (number of heads), and `dropout`:\n",
        "#   1. Assert `d_model` is divisible by `h`\n",
        "#   2. Define `d_k` as dimensions per head\n",
        "#   3. Create weight matrices (`w_q`, `w_k`, `w_v`, `w_o`) for query, key, value, and output\n",
        "#   4. Add a dropout layer for regularization\n",
        "\n",
        "# - Implement a static `attention` method to:\n",
        "#   1. Compute scaled dot-product attention\n",
        "#   2. Apply mask if provided\n",
        "#   3. Apply softmax and dropout\n",
        "#   4. Return weighted values and attention scores\n",
        "\n",
        "# - In `forward`, perform:\n",
        "#   1. Linear transformation of input into query, key, and value\n",
        "#   2. Split into `h` heads and rearrange dimensions\n",
        "#   3. Compute attention output and scores using `attention`\n",
        "#   4. Combine heads and apply output weight matrix\n",
        "\n",
        "######################  TODO  ########################\n",
        "######################  TODO  ########################\n",
        "\n",
        "class MultiHeadAttentionBlock(nn.Module):\n",
        "\n",
        "    def __init__(self, d_model, h, dropout):\n",
        "        super().__init__()\n",
        "        self.d_model = d_model\n",
        "        self.h = h\n",
        "        assert d_model % h == 0, \"d_model isn't divisible by h\"\n",
        "        self.d_k = d_model // h\n",
        "        self.w_q = nn.Linear(d_model, d_model)\n",
        "        self.w_k = nn.Linear(d_model, d_model)\n",
        "        self.w_v = nn.Linear(d_model, d_model)\n",
        "        self.w_o = nn.Linear(d_model, d_model)\n",
        "        self.dropout = nn.Dropout(dropout)\n",
        "\n",
        "    @staticmethod\n",
        "    def attention(query, key, value, mask, dropout: nn.Dropout):\n",
        "        d_k = query.shape[-1]\n",
        "        attention_scores = (query @ key.transpose(-2,-1)) / math.sqrt(d_k)\n",
        "        if mask is not None:\n",
        "            attention_scores.masked_fill_(mask == 0, -1e9)\n",
        "        attention_scores = attention_scores.softmax(dim = -1)\n",
        "        if dropout is not None:\n",
        "            attention_scores = dropout(attention_scores)\n",
        "        return (attention_scores @ value), attention_scores\n",
        "\n",
        "    def forward(self, q, k, v, mask):\n",
        "        key = self.w_k(k)\n",
        "        value = self.w_v(v)\n",
        "        query = self.w_q(q)\n",
        "        q0 = query.shape[0]\n",
        "        q1 = query.shape[1]\n",
        "        k0 = key.shape[0]\n",
        "        k1 = key.shape[1]\n",
        "        v0 = value.shape[0]\n",
        "        v1 = value.shape[1]\n",
        "        query = query.view(q0, q1, self.h, self.d_k).transpose(1,2)\n",
        "        key = key.view(k0, k1, self.h, self.d_k).transpose(1,2)\n",
        "        value = value.view(v0, v1, self.h, self.d_k).transpose(1,2)\n",
        "        x, self.attention_scores = MultiHeadAttentionBlock.attention(query, key, value, mask, self.dropout)\n",
        "        x = x.transpose(1, 2).contiguous().view(x.shape[0], -1, self.h * self.d_k)\n",
        "        return self.w_o(x)\n"
      ]
    },
    {
      "cell_type": "markdown",
      "metadata": {
        "id": "wCaLjCVxsWIc"
      },
      "source": [
        "## Part 6: Residual Connection\n",
        "<p style = \"font-family: 'Helvetica Neue', Arial, sans-serif; text-align: left; font-size: 17.5px\">When we look at the architecture of the Transformer, we see that each sub-layer, including the <i>self-attention</i> and <i>Feed Forward</i> blocks, adds its output to its input before passing it to the <i>Add &amp; Norm</i> layer. This approach integrates the output with the original input in the <i>Add &amp; Norm</i> layer. This process is known as the skip connection, which allows the Transformer to train deep networks more effectively by providing a shortcut for the gradient to flow through during backpropagation.</p>\n",
        "\n",
        "<p style = \"font-family: 'Helvetica Neue', Arial, sans-serif; text-align: left; font-size: 17.5px\">The <code>ResidualConnection</code> class below is responsible for this process.</p>"
      ]
    },
    {
      "cell_type": "code",
      "execution_count": null,
      "metadata": {
        "id": "f-bvuGhIsdfu"
      },
      "outputs": [],
      "source": [
        "######################  TODO  ########################\n",
        "######################  TODO  ########################\n",
        "\n",
        "# - Create a `ResidualConnection` class inheriting from `nn.Module`\n",
        "# - Initialize with `dropout`:\n",
        "#   1. Add a dropout layer for regularization\n",
        "#   2. Include a layer normalization instance\n",
        "\n",
        "# - In `forward`:\n",
        "#   1. Normalize the input using the normalization layer\n",
        "#   2. Pass the normalized input through the sublayer\n",
        "#   3. Apply dropout and add the result back to the original input for residual connection\n",
        "\n",
        "######################  TODO  ########################\n",
        "######################  TODO  ########################\n",
        "\n",
        "class ResidualConnection(nn.Module):\n",
        "    def __init__(self, dropout):\n",
        "        super().__init__()\n",
        "        self.norm = LayerNormalization()\n",
        "        self.dropout = nn.Dropout(dropout)\n",
        "\n",
        "    def forward(self, x, sublayer):\n",
        "        return self.dropout(sublayer(self.norm(x))) + x\n"
      ]
    },
    {
      "cell_type": "markdown",
      "metadata": {
        "id": "9YYI5vpasdGm"
      },
      "source": [
        "## Part 7: Encoder\n",
        "<p style = \"font-family: 'Helvetica Neue', Arial, sans-serif; text-align: left; font-size: 17.5px\">We will now build the encoder. We create the <code>EncoderBlock</code> class, consisting of the Multi-Head Attention and Feed Forward layers, plus the residual connections.</p>\n",
        "\n",
        "<p style = \"font-family: 'Helvetica Neue', Arial, sans-serif; text-align: left; font-size: 17.5px\">In the original paper, the Encoder Block repeats six times. We create the <code>Encoder</code> class as an assembly of multiple <code>EncoderBlock</code>s. We also add layer normalization as a final step after processing the input through all its blocks.</p>"
      ]
    },
    {
      "cell_type": "code",
      "execution_count": null,
      "metadata": {
        "id": "fRtppwE1s0-t"
      },
      "outputs": [],
      "source": [
        "######################  TODO  ########################\n",
        "######################  TODO  ########################\n",
        "\n",
        "# - Create an `EncoderBlock` class inheriting from `nn.Module`\n",
        "# - Initialize with:\n",
        "#   1. `self_attention_block`: Multi-head attention block\n",
        "#   2. `feed_forward_block`: Feed-forward block\n",
        "#   3. `dropout`: Dropout rate for residual connections\n",
        "# - Define two residual connections for:\n",
        "#   1. Self-attention block\n",
        "#   2. Feed-forward block\n",
        "\n",
        "# - In `forward`:\n",
        "#   1. Apply the first residual connection with the self-attention block\n",
        "#   2. Apply the second residual connection with the feed-forward block\n",
        "#   3. Return the updated tensor after both layers\n",
        "\n",
        "######################  TODO  ########################\n",
        "######################  TODO  ########################\n",
        "\n",
        "class EncoderBlock(nn.Module):\n",
        "\n",
        "    def __init__(self, self_attention_block, feed_forward_block, dropout):\n",
        "        super().__init__()\n",
        "        self.feed_forward_block = feed_forward_block\n",
        "        self.residual_connections = nn.ModuleList([ResidualConnection(dropout) for k in range(2)])\n",
        "        self.self_attention_block = self_attention_block\n",
        "\n",
        "    def forward(self, x, src_mask):\n",
        "        x = self.residual_connections[0](x, lambda x: self.self_attention_block(x, x, x, src_mask))\n",
        "        x = self.residual_connections[1](x, self.feed_forward_block)\n",
        "        return x\n"
      ]
    },
    {
      "cell_type": "code",
      "execution_count": null,
      "metadata": {
        "id": "eSq7BZWcs5s1"
      },
      "outputs": [],
      "source": [
        "######################  TODO  ########################\n",
        "######################  TODO  ########################\n",
        "\n",
        "# - Create an `Encoder` class inheriting from `nn.Module`\n",
        "# - Initialize with:\n",
        "#   1. `layers`: A list of `EncoderBlock` instances\n",
        "#   2. A layer normalization instance for output normalization\n",
        "\n",
        "# - In `forward`:\n",
        "#   1. Pass the input tensor `x` through each `EncoderBlock` in `self.layers`\n",
        "#   2. Apply the mask during each block's forward pass\n",
        "#   3. Normalize the final output and return it\n",
        "\n",
        "######################  TODO  ########################\n",
        "######################  TODO  ########################\n",
        "\n",
        "class Encoder(nn.Module):\n",
        "    def __init__(self, layers):\n",
        "        super().__init__()\n",
        "        self.norm = LayerNormalization()\n",
        "        self.layers = layers\n",
        "\n",
        "    def forward(self, x, mask):\n",
        "        for l in self.layers:\n",
        "            x = l(x, mask)\n",
        "        y = self.norm(x)\n",
        "        return y\n"
      ]
    },
    {
      "cell_type": "markdown",
      "metadata": {
        "id": "P0HXE1fH5g0W"
      },
      "source": [
        "## Part 8: Decoder\n",
        "<p style = \"font-family: 'Helvetica Neue', Arial, sans-serif; text-align: left; font-size: 17.5px\">Similarly, the Decoder also consists of several DecoderBlocks that repeat six times in the original paper. The main difference is that it has an additional sub-layer that performs multi-head attention with a <i>cross-attention</i> component that uses the output of the Encoder as its keys and values while using the Decoder's input as queries.</p>\n",
        "\n",
        "<p style = \"font-family: 'Helvetica Neue', Arial, sans-serif; text-align: left; font-size: 17.5px\">For the Output Embedding, we can use the same <code>InputEmbeddings</code> class we use for the Encoder. You can also notice that the self-attention sub-layer is <i>masked</i>, which restricts the model from accessing future elements in the sequence.</p>\n",
        "\n",
        "<p style = \"font-family: 'Helvetica Neue', Arial, sans-serif; text-align: left; font-size: 17.5px\">We will start by building the <code>DecoderBlock</code> class, and then we will build the <code>Decoder</code> class, which will assemble multiple <code>DecoderBlock</code>s.</p>"
      ]
    },
    {
      "cell_type": "code",
      "execution_count": null,
      "metadata": {
        "id": "V9Aof9mb4PJX"
      },
      "outputs": [],
      "source": [
        "######################  TODO  ########################\n",
        "######################  TODO  ########################\n",
        "\n",
        "# - Create a `DecoderBlock` class inheriting from `nn.Module`\n",
        "# - Initialize with:\n",
        "#   1. `self_attention_block`: Multi-head self-attention block\n",
        "#   2. `cross_attention_block`: Multi-head cross-attention block\n",
        "#   3. `feed_forward_block`: Feed-forward block\n",
        "#   4. `dropout`: Dropout rate\n",
        "# - Define three residual connections for:\n",
        "#   1. Self-attention block\n",
        "#   2. Cross-attention block\n",
        "#   3. Feed-forward block\n",
        "\n",
        "# - In `forward`:\n",
        "#   1. Apply the self-attention block with target mask and residual connection\n",
        "#   2. Apply the cross-attention block with source mask and residual connection\n",
        "#   3. Apply the feed-forward block with residual connection\n",
        "#   4. Return the updated tensor\n",
        "\n",
        "######################  TODO  ########################\n",
        "######################  TODO  ########################\n",
        "\n",
        "class DecoderBlock(nn.Module):\n",
        "\n",
        "    def __init__(self,  self_attention_block, cross_attention_block, feed_forward_block, dropout):\n",
        "        super().__init__()\n",
        "        self.feed_forward_block = feed_forward_block\n",
        "        self.residual_connections = nn.ModuleList([ResidualConnection(dropout) for k in range(3)])\n",
        "        self.cross_attention_block = cross_attention_block\n",
        "        self.self_attention_block = self_attention_block\n",
        "\n",
        "    def forward(self, x, encoder_output, src_mask, tgt_mask):\n",
        "        x = self.residual_connections[0](x, lambda x: self.self_attention_block(x, x, x, tgt_mask))\n",
        "        x = self.residual_connections[1](x, lambda x: self.cross_attention_block(x, encoder_output, encoder_output, src_mask))\n",
        "        x = self.residual_connections[2](x, self.feed_forward_block)\n",
        "        return x\n"
      ]
    },
    {
      "cell_type": "code",
      "execution_count": null,
      "metadata": {
        "id": "vwdthvkrtNUM"
      },
      "outputs": [],
      "source": [
        "######################  TODO  ########################\n",
        "######################  TODO  ########################\n",
        "\n",
        "# - Create a `Decoder` class inheriting from `nn.Module`\n",
        "# - Initialize with:\n",
        "#   1. `layers`: A list of `DecoderBlock` instances\n",
        "#   2. A layer normalization instance for the final output\n",
        "\n",
        "# - In `forward`:\n",
        "#   1. Pass the input tensor `x` through each `DecoderBlock` in `self.layers`\n",
        "#   2. Provide `encoder_output`, `src_mask`, and `tgt_mask` to each block\n",
        "#   3. Normalize the final output using the layer normalization\n",
        "#   4. Return the normalized output\n",
        "\n",
        "######################  TODO  ########################\n",
        "######################  TODO  ########################\n",
        "\n",
        "\n",
        "class Decoder(nn.Module):\n",
        "    def __init__(self, layers):\n",
        "        super().__init__()\n",
        "        self.norm = LayerNormalization()\n",
        "        self.layers = layers\n",
        "\n",
        "    def forward(self, x, encoder_output, src_mask, tgt_mask):\n",
        "        for l in self.layers:\n",
        "            x = l(x, encoder_output, src_mask, tgt_mask)\n",
        "        y = self.norm(x)\n",
        "        return y\n"
      ]
    },
    {
      "cell_type": "markdown",
      "metadata": {
        "id": "Qm4g_8O1tS3d"
      },
      "source": [
        "<p style = \"font-family: 'Helvetica Neue', Arial, sans-serif; text-align: left; font-size: 17.5px\">You can see in the Decoder image that after running a stack of <code>DecoderBlock</code>s, we have a Linear Layer and a Softmax function to the output of probabilities. The <code>ProjectionLayer</code> class below is responsible for converting the output of the model into a probability distribution over the <i>vocabulary</i>, where we select each output token from a vocabulary of possible tokens.</p>"
      ]
    },
    {
      "cell_type": "code",
      "execution_count": null,
      "metadata": {
        "id": "UbWVoNintThN"
      },
      "outputs": [],
      "source": [
        "######################  TODO  ########################\n",
        "######################  TODO  ########################\n",
        "\n",
        "# - Create a `ProjectionLayer` class inheriting from `nn.Module`\n",
        "# - Initialize with:\n",
        "#   1. `d_model`: Dimension of the model\n",
        "#   2. `vocab_size`: Size of the output vocabulary\n",
        "# - Define a linear layer to project from `d_model` to `vocab_size`\n",
        "\n",
        "# - In `forward`:\n",
        "#   1. Pass the input through the linear layer\n",
        "#   2. Apply log Softmax along the last dimension\n",
        "#   3. Return the log probabilities\n",
        "\n",
        "######################  TODO  ########################\n",
        "######################  TODO  ########################\n",
        "\n",
        "class ProjectionLayer(nn.Module):\n",
        "    def __init__(self, d_model, vocab_size):\n",
        "        super().__init__()\n",
        "        self.proj = nn.Linear(d_model, vocab_size)\n",
        "    def forward(self, x):\n",
        "        y = torch.log_softmax(self.proj(x), dim = -1)\n",
        "        return y\n"
      ]
    },
    {
      "cell_type": "markdown",
      "metadata": {
        "id": "waCzPEAxtaR8"
      },
      "source": [
        "## Part 9: Building the Transformer\n",
        "\n",
        "<p style = \"font-family: 'Helvetica Neue', Arial, sans-serif; text-align: left; font-size: 17.5px\">We finally have every component of the Transformer architecture ready. We may now construct the Transformer by putting it all together.</p>\n",
        "\n",
        "<p style = \"font-family: 'Helvetica Neue', Arial, sans-serif; text-align: left; font-size: 17.5px\">In the <code>Transformer</code> class below, we will bring together all the components of the model's architecture.</p>"
      ]
    },
    {
      "cell_type": "code",
      "execution_count": null,
      "metadata": {
        "id": "qXbPW4oCtk2G"
      },
      "outputs": [],
      "source": [
        "######################  TODO  ########################\n",
        "######################  TODO  ########################\n",
        "\n",
        "# - Create a `Transformer` class inheriting from `nn.Module`\n",
        "# - Initialize with:\n",
        "#   1. `encoder`: Encoder module\n",
        "#   2. `decoder`: Decoder module\n",
        "#   3. `src_embed` and `tgt_embed`: Input embeddings for source and target languages\n",
        "#   4. `src_pos` and `tgt_pos`: Positional encodings for source and target languages\n",
        "#   5. `projection_layer`: Linear projection layer for final output\n",
        "\n",
        "# - Define the `encode` method:\n",
        "#   1. Apply source embeddings to input\n",
        "#   2. Add positional encoding\n",
        "#   3. Pass through the encoder with the source mask\n",
        "#   4. Return the encoded representation\n",
        "\n",
        "# - Define the `decode` method:\n",
        "#   1. Apply target embeddings to input\n",
        "#   2. Add positional encoding\n",
        "#   3. Pass through the decoder with encoder output, source mask, and target mask\n",
        "#   4. Return the decoder's output\n",
        "\n",
        "# - Define the `project` method:\n",
        "#   1. Pass decoder output through the projection layer\n",
        "#   2. Apply log Softmax to obtain probabilities\n",
        "\n",
        "######################  TODO  ########################\n",
        "######################  TODO  ########################\n",
        "\n",
        "\n",
        "class Transformer(nn.Module):\n",
        "\n",
        "    def __init__(self, encoder, decoder, src_embed, tgt_embed, src_pos, tgt_pos, projection_layer):\n",
        "        super().__init__()\n",
        "        self.tgt_pos = tgt_pos\n",
        "        self.encoder = encoder\n",
        "        self.decoder = decoder\n",
        "        self.tgt_embed = tgt_embed\n",
        "        self.src_embed = src_embed\n",
        "        self.projection_layer = projection_layer\n",
        "        self.src_pos = src_pos\n",
        "\n",
        "    def encode(self, src, src_mask):\n",
        "        src = self.src_embed(src)\n",
        "        src = self.src_pos(src)\n",
        "        src_ = self.encoder(src, src_mask)\n",
        "        return src_\n",
        "\n",
        "    def decode(self, encoder_output, src_mask, tgt, tgt_mask):\n",
        "        tgt = self.tgt_embed(tgt)\n",
        "        tgt = self.tgt_pos(tgt)\n",
        "        return self.decoder(tgt, encoder_output, src_mask, tgt_mask)\n",
        "\n",
        "    def project(self, x):\n",
        "        return self.projection_layer(x)\n"
      ]
    },
    {
      "cell_type": "markdown",
      "metadata": {
        "id": "6znypMaetmRk"
      },
      "source": [
        "<p style = \"font-family: 'Helvetica Neue', Arial, sans-serif; text-align: left; font-size: 17.5px\">The architecture is finally ready. We now define a function called <code>build_transformer</code>, in which we define the parameters and everything we need to have a fully operational Transformer model for the task of <b>machine translation</b>.</p>\n",
        "\n",
        "<p style = \"font-family: 'Helvetica Neue', Arial, sans-serif; text-align: left; font-size: 17.5px\">We will set the same parameters as in the original paper, <a href = \"https://arxiv.org/pdf/1706.03762.pdf\"><i>Attention Is All You Need</i></a>, where $d_{model}$ = 512, $N$ = 6, $h$ = 8, dropout rate $P_{drop}$ = 0.1, and $d_{ff}$ = 2048.</p>"
      ]
    },
    {
      "cell_type": "code",
      "execution_count": null,
      "metadata": {
        "id": "bqGnJ6w2twJc"
      },
      "outputs": [],
      "source": [
        "######################  TODO  ########################\n",
        "######################  TODO  ########################\n",
        "\n",
        "# - Define a `build_transformer` function with parameters for:\n",
        "#   1. Vocabulary sizes (`src_vocab_size`, `tgt_vocab_size`)\n",
        "#   2. Sequence lengths (`src_seq_len`, `tgt_seq_len`)\n",
        "#   3. Model dimensions (`d_model`, `d_ff`)\n",
        "#   4. Number of layers (`N`) and heads (`h`)\n",
        "#   5. Dropout rate (`dropout`)\n",
        "\n",
        "# - Create:\n",
        "#   1. Source and target embedding layers\n",
        "#   2. Positional encoding layers for source and target\n",
        "#   3. Encoder blocks with self-attention and feed-forward layers\n",
        "#   4. Decoder blocks with self-attention, cross-attention, and feed-forward layers\n",
        "#   5. Encoder and Decoder modules using the blocks\n",
        "#   6. Projection layer to map decoder output to target vocabulary\n",
        "\n",
        "# - Assemble all components into a `Transformer` instance\n",
        "# - Initialize parameters with Xavier uniform initialization\n",
        "# - Return the initialized Transformer\n",
        "\n",
        "######################  TODO  ########################\n",
        "######################  TODO  ########################\n",
        "\n",
        "\n",
        "def build_transformer(src_vocab_size, tgt_vocab_size, src_seq_len, tgt_seq_len, d_model = 512, N = 6, h = 8, dropout = 0.1, d_ff= 2048):\n",
        "\n",
        "\n",
        "    tgt_embed = InputEmbeddings(d_model, tgt_vocab_size)\n",
        "    src_embed = InputEmbeddings(d_model, src_vocab_size)\n",
        "\n",
        "\n",
        "    tgt_pos = PositionalEncoding(d_model, tgt_seq_len, dropout)\n",
        "    src_pos = PositionalEncoding(d_model, src_seq_len, dropout)\n",
        "\n",
        "\n",
        "    encoder_blocks = []\n",
        "    for i in range(N):\n",
        "        encoder_block = EncoderBlock(MultiHeadAttentionBlock(d_model, h, dropout), FeedForwardBlock(d_model, d_ff, dropout), dropout)\n",
        "        encoder_blocks.append(encoder_block)\n",
        "\n",
        "\n",
        "    decoder_blocks = []\n",
        "    for i in range(N):\n",
        "        decoder_block = DecoderBlock(MultiHeadAttentionBlock(d_model, h, dropout), MultiHeadAttentionBlock(d_model, h, dropout), FeedForwardBlock(d_model, d_ff, dropout), dropout)\n",
        "        decoder_blocks.append(decoder_block)\n",
        "\n",
        "    transformer = Transformer(Encoder(nn.ModuleList(encoder_blocks)), Decoder(nn.ModuleList(decoder_blocks)), src_embed, tgt_embed, src_pos, tgt_pos, ProjectionLayer(d_model, tgt_vocab_size))\n",
        "\n",
        "\n",
        "    for p in transformer.parameters():\n",
        "        if p.dim() > 1:\n",
        "            nn.init.xavier_uniform_(p)\n",
        "\n",
        "    return transformer\n"
      ]
    },
    {
      "cell_type": "markdown",
      "metadata": {
        "id": "Iw7CWf4bt3yr"
      },
      "source": [
        "The model is now ready to be trained!"
      ]
    },
    {
      "cell_type": "markdown",
      "metadata": {
        "id": "6_7Z3fEYuTK0"
      },
      "source": [
        "## Part 10: Tokenizer"
      ]
    },
    {
      "cell_type": "markdown",
      "metadata": {
        "id": "EDinqTghqr_Q"
      },
      "source": [
        "<p style = \"font-family: 'Helvetica Neue', Arial, sans-serif; text-align: left; font-size: 17.5px\">Tokenization is a crucial preprocessing step for our Transformer model. In this step, we convert raw text into a number format that the model can process.  </p>\n",
        "\n",
        "<p style = \"font-family: 'Helvetica Neue', Arial, sans-serif; text-align: left; font-size: 17.5px\">There are several Tokenization strategies. We will use the <i>word-level tokenization</i> to transform each word in a sentence into a token.</p>"
      ]
    },
    {
      "cell_type": "markdown",
      "metadata": {
        "id": "at-cYYjnqr_Q"
      },
      "source": [
        "<center>\n",
        "    <img src = \"https://substackcdn.com/image/fetch/f_auto,q_auto:good,fl_progressive:steep/https%3A%2F%2Fbucketeer-e05bbc84-baa3-437e-9518-adb32be77984.s3.amazonaws.com%2Fpublic%2Fimages%2F8d5e749c-b0bd-4496-85a1-9b4397ad935f_1400x787.jpeg\" width = 800, height= 800>\n",
        "<p style = \"font-size: 16px;\n",
        "            font-family: 'Georgia', serif;\n",
        "            text-align: center;\n",
        "            margin-top: 10px;\">Different tokenization strategies. Source: <a href = \"https://shaankhosla.substack.com/p/talking-tokenization\">shaankhosla.substack.com</a>.</p>\n",
        "</center>"
      ]
    },
    {
      "cell_type": "markdown",
      "metadata": {
        "id": "gjRMr2N6qr_Q"
      },
      "source": [
        "<p style = \"font-family: 'Helvetica Neue', Arial, sans-serif; text-align: left; font-size: 17.5px\">After tokenizing a sentence, we map each token to an unique integer ID based on the created vocabulary present in the training corpus during the training of the tokenizer. Each integer number represents a specific word in the vocabulary.</p>\n",
        "\n",
        "<p style = \"font-family: 'Helvetica Neue', Arial, sans-serif; text-align: left; font-size: 17.5px\">Besides the words in the training corpus, Transformers use special tokens for specific purposes. These are some that we will define right away:</p>\n",
        "\n",
        "<p style = \"font-family: 'Helvetica Neue', Arial, sans-serif; text-align: left; font-size: 17.5px\"><b>• [UNK]:</b> This token is used to identify an unknown word in the sequence.</p>\n",
        "\n",
        "<p style = \"font-family: 'Helvetica Neue', Arial, sans-serif; text-align: left; font-size: 17.5px\"><b>• [PAD]:</b> Padding token to ensure that all sequences in a batch have the same length, so we pad shorter sentences with this token. We use attention masks to <i>\"tell\"</i> the model to ignore the padded tokens during training since they don't have any real meaning to the task.</p>\n",
        "\n",
        "<p style = \"font-family: 'Helvetica Neue', Arial, sans-serif; text-align: left; font-size: 17.5px\"><b>•  [SOS]:</b> This is a token used to signal the <i>Start of Sentence</i>.</p>\n",
        "\n",
        "<p style = \"font-family: 'Helvetica Neue', Arial, sans-serif; text-align: left; font-size: 17.5px\"><b>•  [EOS]:</b> This is a token used to signal the <i>End of Sentence</i>.</p>\n",
        "\n",
        "<p style = \"font-family: 'Helvetica Neue', Arial, sans-serif; text-align: left; font-size: 17.5px\">In the <code>build_tokenizer</code> function below, we ensure a tokenizer is ready to train the model. It checks if there is an existing tokenizer, and if that is not the case, it trains a new tokenizer.</p>"
      ]
    },
    {
      "cell_type": "code",
      "execution_count": null,
      "metadata": {
        "id": "Zh9pOItduxHq"
      },
      "outputs": [],
      "source": [
        "######################  TODO  ########################\n",
        "######################  TODO  ########################\n",
        "\n",
        "# - Define a `build_tokenizer` function with parameters for:\n",
        "#   1. `config`: Configuration containing tokenizer file path\n",
        "#   2. `ds`: Dataset to train the tokenizer\n",
        "#   3. `lang`: Language for which the tokenizer is built\n",
        "\n",
        "# - Check if the tokenizer file exists:\n",
        "#   1. If not, create a new tokenizer:\n",
        "#      - Initialize a word-level tokenizer with an unknown token (`[UNK]`)\n",
        "#      - Set the pre-tokenizer to split text by whitespace\n",
        "#      - Define a trainer with special tokens and minimum frequency\n",
        "#      - Train the tokenizer on all sentences in the dataset\n",
        "#      - Save the trained tokenizer to the specified file path\n",
        "#   2. If the file exists, load the tokenizer from the file\n",
        "\n",
        "# - Return the loaded or trained tokenizer\n",
        "\n",
        "######################  TODO  ########################\n",
        "######################  TODO  ########################\n",
        "\n",
        "def build_tokenizer(config, ds, lang):\n",
        "\n",
        "    tokenizer_path = Path(config['tokenizer_file'].format(lang))\n",
        "    if not Path.exists(tokenizer_path):\n",
        "        tokenizer = Tokenizer(WordLevel(unk_token = '[UNK]'))\n",
        "        tokenizer.pre_tokenizer = Whitespace()\n",
        "        trainer = WordLevelTrainer(special_tokens =\n",
        "         [\"[UNK]\", \"[PAD]\",\"[SOS]\", \"[EOS]\"], min_frequency = 2)\n",
        "        tokenizer.train_from_iterator(get_all_sentences(ds, lang), trainer = trainer)\n",
        "        tokenizer.save(str(tokenizer_path))\n",
        "    else:\n",
        "        tokenizer = Tokenizer.from_file(str(tokenizer_path))\n",
        "    return tokenizer\n"
      ]
    },
    {
      "cell_type": "markdown",
      "metadata": {
        "id": "oodlr4eouxTU"
      },
      "source": [
        "## Part 11: Load Dataset"
      ]
    },
    {
      "cell_type": "markdown",
      "metadata": {
        "id": "YdVFowgUqr_Q"
      },
      "source": [
        "<p style = \"font-family: 'Helvetica Neue', Arial, sans-serif; text-align: left; font-size: 17.5px\">For this task, we will use the <a href = \"opus_books · Datasets at Hugging Face\">OpusBooks dataset</a>, available on 🤗Hugging Face. This dataset consists of two features, <code>id</code> and <code>translation</code>. The <code>translation</code> feature contains pairs of sentences in different languages, such as Spanish and Portuguese, English and French, and so forth.</p>\n",
        "\n",
        "<p style = \"font-family: 'Helvetica Neue', Arial, sans-serif; text-align: left; font-size: 17.5px\">I first tried translating sentences from English to Portuguese—my native tongue — but there are only 1.4k examples for this pair, so the results were not satisfying in the current configurations for this model. I then tried to use the English-French pair due to its higher number of examples—127k—but it would take too long to train with the current configurations. I then opted to train the model on the English-Italian pair, the same one used in the <a href = \"https://youtu.be/ISNdQcPhsts?si=253J39cose6IdsLv\">Coding a Transformer from scratch on PyTorch, with full explanation, training and inference\n",
        "</a> video, as that was a good balance between performance and time of training.</p>\n",
        "\n",
        "<p style = \"font-family: 'Helvetica Neue', Arial, sans-serif; text-align: left; font-size: 17.5px\">We start by defining the <code>get_all_sentences</code> function to iterate over the dataset and extract the sentences according to the language pair defined—we will do that later.</p>"
      ]
    },
    {
      "cell_type": "code",
      "execution_count": null,
      "metadata": {
        "id": "xvRuuTpIveZS"
      },
      "outputs": [],
      "source": [
        "######################  TODO  ########################\n",
        "######################  TODO  ########################\n",
        "\n",
        "# - Define a `get_all_sentences` function to extract sentences from a dataset\n",
        "# - Accept parameters:\n",
        "#   1. `ds`: The dataset containing translation pairs\n",
        "#   2. `lang`: The language key to extract translations\n",
        "\n",
        "# - Iterate through the dataset:\n",
        "#   1. Access the 'translation' field of each pair\n",
        "#   2. Yield the sentence corresponding to the specified language key\n",
        "\n",
        "######################  TODO  ########################\n",
        "######################  TODO  ########################\n",
        "def get_all_sentences(ds, lang):\n",
        "    for pair in ds:\n",
        "        yield pair['translation'][lang]\n"
      ]
    },
    {
      "cell_type": "markdown",
      "metadata": {
        "id": "EA13IRYEqr_R"
      },
      "source": [
        "<p style = \"font-family: 'Helvetica Neue', Arial, sans-serif; text-align: left; font-size: 17.5px\">The <code>get_ds</code> function is defined to load and prepare the dataset for training and validation. In this function, we build or load the tokenizer, split the dataset, and create DataLoaders, so the model can successfully iterate over the dataset in batches. The result of these functions is tokenizers for the source and target languages plus the DataLoader objects.</p>"
      ]
    },
    {
      "cell_type": "code",
      "execution_count": null,
      "metadata": {
        "id": "IkTRqP8LvpVy"
      },
      "outputs": [],
      "source": [
        "######################  TODO  ########################\n",
        "######################  TODO  ########################\n",
        "\n",
        "# - Define a `get_ds` function to process and prepare the dataset for training\n",
        "# - Load the `OpusBooks` dataset using:\n",
        "#   1. Source and target languages from `config`\n",
        "#   2. Train split of the dataset\n",
        "\n",
        "# - Build or load tokenizers for source and target languages using `build_tokenizer`\n",
        "\n",
        "# - Split the dataset into training and validation sets:\n",
        "#   1. Allocate 90% for training and 10% for validation\n",
        "#   2. Use `random_split` for randomized splitting\n",
        "\n",
        "# - Process the splits using a `BilingualDataset` class:\n",
        "#   1. Convert sentences to tokenized representations\n",
        "#   2. Apply source and target tokenizers\n",
        "#   3. Ensure sequence lengths conform to `config`\n",
        "\n",
        "# - Compute and print the maximum sentence lengths for both source and target languages\n",
        "\n",
        "# - Create DataLoader objects for training and validation:\n",
        "#   1. Define batch sizes from `config`\n",
        "#   2. Enable shuffling for training DataLoader\n",
        "\n",
        "# - Return:\n",
        "#   1. Training DataLoader\n",
        "#   2. Validation DataLoader\n",
        "#   3. Tokenizer for source language\n",
        "#   4. Tokenizer for target language\n",
        "\n",
        "######################  TODO  ########################\n",
        "######################  TODO  ########################\n",
        "\n",
        "def get_ds(config):\n",
        "    raw_dataset = load_dataset('opus_books', f\"{config['lang_src']}-{config['lang_tgt']}\", split='train')\n",
        "\n",
        "    src_tokenizer = build_tokenizer(config, raw_dataset, config['lang_src'])\n",
        "    tgt_tokenizer = build_tokenizer(config, raw_dataset, config['lang_tgt'])\n",
        "\n",
        "    dataset_size_train = int(0.9 * len(raw_dataset))\n",
        "    dataset_size_val = len(raw_dataset) - dataset_size_train\n",
        "\n",
        "    raw_train_split, raw_val_split = random_split(raw_dataset, [dataset_size_train, dataset_size_val])\n",
        "\n",
        "    train_data = BilingualDataset(\n",
        "        raw_train_split,\n",
        "        src_tokenizer,\n",
        "        tgt_tokenizer,\n",
        "        config['lang_src'],\n",
        "        config['lang_tgt'],\n",
        "        config['seq_len']\n",
        "    )\n",
        "\n",
        "    val_data = BilingualDataset(\n",
        "        raw_val_split,\n",
        "        src_tokenizer,\n",
        "        tgt_tokenizer,\n",
        "        config['lang_src'],\n",
        "        config['lang_tgt'],\n",
        "        config['seq_len']\n",
        "    )\n",
        "\n",
        "    src_max_length = 0\n",
        "    tgt_max_length = 0\n",
        "\n",
        "    for record in raw_dataset:\n",
        "        source_ids = src_tokenizer.encode(record['translation'][config['lang_src']]).ids\n",
        "        target_ids = tgt_tokenizer.encode(record['translation'][config['lang_tgt']]).ids\n",
        "\n",
        "        src_max_length = max(src_max_length, len(source_ids))\n",
        "        tgt_max_length = max(tgt_max_length, len(target_ids))\n",
        "\n",
        "    print(f\"Max length of source sentence: {src_max_length}\")\n",
        "    print(f\"Max length of target sentence: {tgt_max_length}\")\n",
        "\n",
        "    train_loader = DataLoader(train_data, batch_size=config['batch_size'], shuffle=True)\n",
        "    val_loader = DataLoader(val_data, batch_size=1, shuffle=True)\n",
        "\n",
        "    return train_loader, val_loader, src_tokenizer, tgt_tokenizer\n"
      ]
    },
    {
      "cell_type": "markdown",
      "metadata": {
        "id": "VK3d2-AVqr_R"
      },
      "source": [
        "<p style = \"font-family: 'Helvetica Neue', Arial, sans-serif; text-align: left; font-size: 17.5px\">We define the <code>casual_mask</code> function to create a mask for the attention mechanism of the decoder. This mask prevents the model from having information about future elements in the sequence. </p>\n",
        "\n",
        "<p style = \"font-family: 'Helvetica Neue', Arial, sans-serif; text-align: left; font-size: 17.5px\">We start by making a square grid filled with ones. We determine the grid size with the <code>size</code> parameter. Then, we change all the numbers above the main diagonal line to zeros. Every number on one side becomes a zero, while the rest remain ones. The function then flips all these values, turning ones into zeros and zeros into ones. This process is crucial for models that predict future tokens in a sequence.</p>"
      ]
    },
    {
      "cell_type": "code",
      "execution_count": null,
      "metadata": {
        "id": "kTgMYaY2vvWq"
      },
      "outputs": [],
      "source": [
        "######################  TODO  ########################\n",
        "######################  TODO  ########################\n",
        "\n",
        "# - Define a `casual_mask` function to create an upper triangular mask\n",
        "# - Accept `size` as the dimension of the square matrix\n",
        "# - Steps:\n",
        "#   1. Create a square matrix of size `size x size` filled with ones\n",
        "#   2. Use `torch.triu` to make it upper triangular, with zeros below the diagonal\n",
        "#   3. Convert the matrix to integer type\n",
        "#   4. Return the mask where zeros represent the causal positions\n",
        "\n",
        "######################  TODO  ########################\n",
        "######################  TODO  ########################\n",
        "\n",
        "\n",
        "def casual_mask(size):\n",
        "    mask = torch.triu(torch.ones(1, size, size), diagonal = 1).type(torch.int)\n",
        "    return mask == 0\n"
      ]
    },
    {
      "cell_type": "markdown",
      "metadata": {
        "id": "ccdK5XnMqr_R"
      },
      "source": [
        "<p style = \"font-family: 'Helvetica Neue', Arial, sans-serif; text-align: left; font-size: 17.5px\">The <code>BilingualDataset</code> class processes the texts of the target and source languages in the dataset by tokenizing them and adding all the necessary special tokens. This class also certifies that the sentences are within a maximum sequence length for both languages and pads all necessary sentences.</p>"
      ]
    },
    {
      "cell_type": "code",
      "execution_count": null,
      "metadata": {
        "id": "x9v94mdgv3y6"
      },
      "outputs": [],
      "source": [
        "######################  TODO  ########################\n",
        "######################  TODO  ########################\n",
        "\n",
        "# - Define a `BilingualDataset` class inheriting from `Dataset`\n",
        "# - Initialize with:\n",
        "#   1. `ds`: Dataset containing sentence pairs\n",
        "#   2. `tokenizer_src` and `tokenizer_tgt`: Tokenizers for source and target languages\n",
        "#   3. `src_lang` and `tgt_lang`: Language identifiers\n",
        "#   4. `seq_len`: Maximum sequence length for tokens\n",
        "\n",
        "# - Define special tokens (`[SOS]`, `[EOS]`, `[PAD]`) using the target tokenizer\n",
        "\n",
        "# - Implement `__len__` to return the number of sentence pairs in the dataset\n",
        "\n",
        "# - Implement `__getitem__` to:\n",
        "#   1. Retrieve source and target texts based on the index\n",
        "#   2. Tokenize source and target texts\n",
        "#   3. Compute required padding for source and target tokens\n",
        "#   4. Raise an error if tokenized sentences exceed `seq_len`\n",
        "#   5. Build `encoder_input` by concatenating `[SOS]`, tokenized text, `[EOS]`, and padding\n",
        "#   6. Build `decoder_input` by concatenating `[SOS]`, tokenized text, and padding\n",
        "#   7. Build `label` by concatenating tokenized text, `[EOS]`, and padding\n",
        "#   8. Ensure all tensors are of length `seq_len`\n",
        "\n",
        "# - Return a dictionary containing:\n",
        "#   1. `encoder_input`: Tensor for the encoder\n",
        "#   2. `decoder_input`: Tensor for the decoder\n",
        "#   3. `encoder_mask`: Mask for non-padding tokens in the encoder\n",
        "#   4. `decoder_mask`: Mask for non-padding tokens in the decoder with causal masking\n",
        "#   5. `label`: Expected output for training\n",
        "#   6. `src_text` and `tgt_text`: Original source and target texts\n",
        "\n",
        "######################  TODO  ########################\n",
        "######################  TODO  ########################\n",
        "\n",
        "class BilingualDataset(Dataset):\n",
        "\n",
        "    def __init__(self, dataset, src_tokenizer, tgt_tokenizer, source_lang, target_lang, max_seq_len):\n",
        "        super().__init__()\n",
        "        self.source_lang = source_lang\n",
        "        self.max_seq_len = max_seq_len\n",
        "        self.dataset = dataset\n",
        "        self.target_lang = target_lang\n",
        "        self.tgt_tokenizer = tgt_tokenizer\n",
        "        self.src_tokenizer = src_tokenizer\n",
        "        self.pad_token_id = torch.tensor([tgt_tokenizer.token_to_id(\"[PAD]\")], dtype=torch.int64)\n",
        "        self.eos_token_id = torch.tensor([tgt_tokenizer.token_to_id(\"[EOS]\")], dtype=torch.int64)\n",
        "        self.sos_token_id = torch.tensor([tgt_tokenizer.token_to_id(\"[SOS]\")], dtype=torch.int64)\n",
        "\n",
        "    def __len__(self):\n",
        "        return len(self.dataset)\n",
        "\n",
        "    def __getitem__(self, idx):\n",
        "        sentence_pair = self.dataset[idx]\n",
        "        source_text = sentence_pair['translation'][self.source_lang]\n",
        "        target_text = sentence_pair['translation'][self.target_lang]\n",
        "\n",
        "        source_token_ids = self.src_tokenizer.encode(source_text).ids\n",
        "        target_token_ids = self.tgt_tokenizer.encode(target_text).ids\n",
        "\n",
        "        src_padding_needed = self.max_seq_len - len(source_token_ids) - 2\n",
        "        tgt_padding_needed = self.max_seq_len - len(target_token_ids) - 1\n",
        "\n",
        "        if src_padding_needed < 0 or tgt_padding_needed < 0:\n",
        "            raise ValueError(\"Tokenized sentence exceeds maximum sequence length\")\n",
        "\n",
        "        encoder_tokens = torch.cat([self.sos_token_id,\n",
        "                                    torch.tensor(source_token_ids, dtype=torch.int64),\n",
        "                                    self.eos_token_id,\n",
        "                                    torch.tensor([self.pad_token_id] * src_padding_needed, dtype=torch.int64)])\n",
        "\n",
        "        decoder_tokens = torch.cat([self.sos_token_id,\n",
        "                                    torch.tensor(target_token_ids, dtype=torch.int64),\n",
        "                                    torch.tensor([self.pad_token_id] * tgt_padding_needed, dtype=torch.int64)])\n",
        "\n",
        "        label_tokens = torch.cat([\n",
        "            torch.tensor(target_token_ids, dtype=torch.int64),\n",
        "            self.eos_token_id,\n",
        "            torch.tensor([self.pad_token_id] * tgt_padding_needed, dtype=torch.int64)\n",
        "        ])\n",
        "\n",
        "        assert encoder_tokens.size(0) == self.max_seq_len\n",
        "        assert decoder_tokens.size(0) == self.max_seq_len\n",
        "        assert label_tokens.size(0) == self.max_seq_len\n",
        "\n",
        "        return {\n",
        "            'encoder_input': encoder_tokens,\n",
        "            'decoder_input': decoder_tokens,\n",
        "            'encoder_mask': (encoder_tokens != self.pad_token_id).unsqueeze(0).unsqueeze(0).int(),\n",
        "            'decoder_mask': (decoder_tokens != self.pad_token_id).unsqueeze(0).unsqueeze(0).int() & casual_mask(decoder_tokens.size(0)),\n",
        "            'label': label_tokens,\n",
        "            'src_text': source_text,\n",
        "            'tgt_text': target_text\n",
        "        }\n",
        "\n"
      ]
    },
    {
      "cell_type": "markdown",
      "metadata": {
        "id": "B7cXlNUfv5uL"
      },
      "source": [
        "## Part 12: Validation Loop"
      ]
    },
    {
      "cell_type": "markdown",
      "metadata": {
        "id": "tf8Wt860qr_R"
      },
      "source": [
        "<p style = \"font-family: 'Helvetica Neue', Arial, sans-serif; text-align: left; font-size: 17.5px\">We will now create two functions for the validation loop. The validation loop is crucial to evaluate model performance in translating sentences from data it has not seen during training.</p>\n",
        "\n",
        "<p style = \"font-family: 'Helvetica Neue', Arial, sans-serif; text-align: left; font-size: 17.5px\">We will define two functions. The first function, <code>greedy_decode</code>, gives us the model's output by obtaining the most probable next token. The second function, <code>run_validation</code>, is responsible for running the validation process in which we decode the model's output and compare it with the reference text for the target sentence.</p>"
      ]
    },
    {
      "cell_type": "code",
      "execution_count": null,
      "metadata": {
        "id": "z1rzcAkpv8Ew"
      },
      "outputs": [],
      "source": [
        "######################  TODO  ########################\n",
        "######################  TODO  ########################\n",
        "\n",
        "# - Define a `greedy_decode` function to generate the most probable sequence using a trained model\n",
        "# - Accept parameters:\n",
        "#   1. `model`: Trained Transformer model\n",
        "#   2. `source`: Source input sequence\n",
        "#   3. `source_mask`: Mask for the source sequence\n",
        "#   4. `tokenizer_src` and `tokenizer_tgt`: Tokenizers for source and target languages\n",
        "#   5. `max_len`: Maximum sequence length for the output\n",
        "#   6. `device`: Device to run the computation (e.g., CPU or GPU)\n",
        "\n",
        "# - Steps:\n",
        "#   1. Retrieve indices for `[SOS]` and `[EOS]` tokens from the target tokenizer\n",
        "#   2. Compute encoder output for the source sequence\n",
        "#   3. Initialize decoder input with `[SOS]`\n",
        "#   4. Loop until `max_len` is reached or `[EOS]` is generated:\n",
        "#      - Create a causal mask for the decoder input\n",
        "#      - Compute decoder output using encoder output and masks\n",
        "#      - Apply the projection layer to get probabilities for the next token\n",
        "#      - Select the token with the highest probability and append it to the decoder input\n",
        "#      - Break the loop if `[EOS]` is generated\n",
        "#   5. Return the generated sequence of tokens\n",
        "\n",
        "######################  TODO  ########################\n",
        "######################  TODO  ########################\n",
        "\n",
        "def greedy_decode(trained_model, src_sequence, src_mask, src_tokenizer, tgt_tokenizer, max_sequence_length, compute_device):\n",
        "    start_token_idx = tgt_tokenizer.token_to_id('[SOS]')\n",
        "    end_token_idx = tgt_tokenizer.token_to_id('[EOS]')\n",
        "\n",
        "    encoder_result = trained_model.encode(src_sequence, src_mask)\n",
        "    decoder_sequence = torch.empty(1, 1).fill_(start_token_idx).type_as(src_sequence).to(compute_device)\n",
        "\n",
        "    while True:\n",
        "        if decoder_sequence.size(1) == max_sequence_length:\n",
        "            break\n",
        "\n",
        "        decoder_causal_mask = casual_mask(decoder_sequence.size(1)).type_as(src_mask).to(compute_device)\n",
        "        decoder_output = trained_model.decode(encoder_result, src_mask, decoder_sequence, decoder_causal_mask)\n",
        "\n",
        "        token_probabilities = trained_model.project(decoder_output[:, -1])\n",
        "        _, predicted_token = torch.max(token_probabilities, dim=1)\n",
        "\n",
        "        decoder_sequence = torch.cat([decoder_sequence, torch.empty(1, 1).type_as(src_sequence).fill_(predicted_token.item()).to(compute_device)], dim=1)\n",
        "\n",
        "        if predicted_token == end_token_idx:\n",
        "            break\n",
        "\n",
        "    return decoder_sequence.squeeze(0)\n",
        "\n",
        "\n"
      ]
    },
    {
      "cell_type": "code",
      "execution_count": null,
      "metadata": {
        "id": "iF7v9L0owcLT"
      },
      "outputs": [],
      "source": [
        "######################  TODO  ########################\n",
        "######################  TODO  ########################\n",
        "\n",
        "# - Define a `run_validation` function to evaluate the model on the validation dataset\n",
        "# - Accept parameters:\n",
        "#   1. `model`: Trained Transformer model\n",
        "#   2. `validation_ds`: Validation dataset\n",
        "#   3. `tokenizer_src` and `tokenizer_tgt`: Tokenizers for source and target languages\n",
        "#   4. `max_len`: Maximum sequence length for decoding\n",
        "#   5. `device`: Device to run the computation (e.g., CPU or GPU)\n",
        "#   6. `print_msg`: Function for displaying output messages\n",
        "#   7. `global_state`: Optional global state for tracking progress\n",
        "#   8. `writer`: Optional logging writer (e.g., TensorBoard)\n",
        "#   9. `num_examples`: Number of examples to process per run (default: 2)\n",
        "\n",
        "# - Steps:\n",
        "#   1. Set the model to evaluation mode\n",
        "#   2. Initialize a counter to track the number of processed examples\n",
        "#   3. Define a fixed console width for printed messages\n",
        "#   4. Iterate through the validation dataset:\n",
        "#      - Retrieve `encoder_input` and `encoder_mask` and move them to the specified device\n",
        "#      - Ensure batch size is 1 for validation\n",
        "#      - Use `greedy_decode` to generate the model's predictions\n",
        "#      - Decode the model's output into human-readable text\n",
        "#      - Print source, target, and predicted text using `print_msg`\n",
        "#      - Break the loop after processing the specified number of examples (`num_examples`)\n",
        "#   5. Ensure no gradients are computed during evaluation\n",
        "\n",
        "######################  TODO  ########################\n",
        "######################  TODO  ########################\n",
        "def run_validation(trained_model, val_dataset, src_tokenizer, tgt_tokenizer, max_sequence_len, compute_device, display_message, global_tracker, logger=None, example_limit=2):\n",
        "    trained_model.eval()\n",
        "    example_count = 0\n",
        "\n",
        "    console_display_width = 80\n",
        "    with torch.no_grad():\n",
        "        for data_batch in val_dataset:\n",
        "            example_count += 1\n",
        "            encoder_inputs = data_batch['encoder_input'].to(compute_device)\n",
        "            encoder_masks = data_batch['encoder_mask'].to(compute_device)\n",
        "\n",
        "            assert encoder_inputs.size(0) == 1, 'Validation batch size must be 1.'\n",
        "\n",
        "            predicted_output = greedy_decode(trained_model, encoder_inputs, encoder_masks,\n",
        "                src_tokenizer, tgt_tokenizer, max_sequence_len, compute_device)\n",
        "\n",
        "            original_source = data_batch['src_text'][0]\n",
        "            original_target = data_batch['tgt_text'][0]\n",
        "            predicted_text = tgt_tokenizer.decode(predicted_output.detach().cpu().numpy())\n",
        "\n",
        "            display_message('-' * console_display_width)\n",
        "            display_message(f'SOURCE: {original_source}')\n",
        "            display_message(f'TARGET: {original_target}')\n",
        "            display_message(f'PREDICTED: {predicted_text}')\n",
        "\n",
        "            if example_count == example_limit:\n",
        "                break"
      ]
    },
    {
      "cell_type": "markdown",
      "metadata": {
        "id": "qw3nykKxwkIh"
      },
      "source": [
        "## Part 13: Training Loop"
      ]
    },
    {
      "cell_type": "markdown",
      "metadata": {
        "id": "az_Kwq4Zqr_S"
      },
      "source": [
        "<p style = \"font-family: 'Helvetica Neue', Arial, sans-serif; text-align: left; font-size: 17.5px\">We are ready to train our Transformer model on the OpusBook dataset for the English to Italian translation task.</p>\n",
        "\n",
        "<p style = \"font-family: 'Helvetica Neue', Arial, sans-serif; text-align: left; font-size: 17.5px\">We first start by defining the <code>get_model</code> function to load the model by calling the <code>build_transformer</code> function we have previously defined. This function uses the <code>config</code> dictionary to set a few parameters.</p>"
      ]
    },
    {
      "cell_type": "code",
      "execution_count": null,
      "metadata": {
        "id": "7QMn1BULwnBl"
      },
      "outputs": [],
      "source": [
        "######################  TODO  ########################\n",
        "######################  TODO  ########################\n",
        "\n",
        "# - Define a `get_model` function to initialize a Transformer model\n",
        "# - Accept parameters:\n",
        "#   1. `config`: Configuration dictionary with model settings\n",
        "#   2. `vocab_src_len`: Length of the source language vocabulary\n",
        "#   3. `vocab_tgt_len`: Length of the target language vocabulary\n",
        "\n",
        "# - Use the `build_transformer` function to:\n",
        "#   1. Create a Transformer model\n",
        "#   2. Pass the source and target vocabulary lengths\n",
        "#   3. Set sequence length (`seq_len`) and embedding dimensionality (`d_model`) from `config`\n",
        "\n",
        "# - Return the initialized model\n",
        "\n",
        "######################  TODO  ########################\n",
        "######################  TODO  ########################\n",
        "\n",
        "def get_model(config, vocab_src_len, vocab_tgt_len):\n",
        "    model = build_transformer(vocab_src_len, vocab_tgt_len, config['seq_len'], config['seq_len'], config['d_model'])\n",
        "    return model"
      ]
    },
    {
      "cell_type": "markdown",
      "metadata": {
        "id": "Ord2DlVkqr_S"
      },
      "source": [
        "<p style = \"font-family: 'Helvetica Neue', Arial, sans-serif; text-align: left; font-size: 17.5px\">I have mentioned the <code>config</code> dictionary several times throughout this notebook. Now, it is time to create it.</p>\n",
        "\n",
        "<p style = \"font-family: 'Helvetica Neue', Arial, sans-serif; text-align: left; font-size: 17.5px\">In the following cell, we will define two functions to configure our model and the training process.</p>\n",
        "\n",
        "<p style = \"font-family: 'Helvetica Neue', Arial, sans-serif; text-align: left; font-size: 17.5px\">In the <code>get_config</code> function, we define crucial parameters for the training process. <code>batch_size</code> for the number of training examples used in one iteration, <code>num_epochs</code> as the number of times the entire dataset is passed forward and backward through the Transformer, <code>lr</code> as the learning rate for the optimizer, etc. We will also finally define the pairs from the OpusBook dataset, <code>'lang_src': 'en'</code> for selecting English as the source language and <code>'lang_tgt': 'it'</code> for selecting Italian as the target language.</p>\n",
        "\n",
        "<p style = \"font-family: 'Helvetica Neue', Arial, sans-serif; text-align: left; font-size: 17.5px\">The <code>get_weights_file_path</code> function constructs the file path for saving or loading model weights for any specific epoch.</p>"
      ]
    },
    {
      "cell_type": "code",
      "execution_count": null,
      "metadata": {
        "id": "gXt82CejxeHZ"
      },
      "outputs": [],
      "source": [
        "######################  TODO  ########################\n",
        "######################  TODO  ########################\n",
        "\n",
        "# - Define a `get_config` function to return a dictionary of settings for building and training the Transformer model:\n",
        "#   1. `batch_size`: Number of samples per training batch\n",
        "#   2. `num_epochs`: Total training epochs\n",
        "#   3. `lr`: Learning rate for optimization\n",
        "#   4. `seq_len`: Maximum sequence length for tokens\n",
        "#   5. `d_model`: Dimensionality of embeddings (e.g., 512)\n",
        "#   6. `lang_src` and `lang_tgt`: Source and target languages\n",
        "#   7. `model_folder`: Folder to save model weights\n",
        "#   8. `model_basename`: Base name for model files\n",
        "#   9. `preload`: Option to preload a model (default: None)\n",
        "#   10. `tokenizer_file`: Filename pattern for saving tokenizers\n",
        "#   11. `experiment_name`: Name of the experiment for logging\n",
        "\n",
        "# - Define `get_weights_file_path` to construct a file path for saving/retrieving model weights:\n",
        "#   1. Accept `config` dictionary and `epoch` string as parameters\n",
        "#   2. Retrieve `model_folder` and `model_basename` from `config`\n",
        "#   3. Construct the filename with the base name and epoch\n",
        "#   4. Combine the current directory, model folder, and filename to return the full path\n",
        "\n",
        "######################  TODO  ########################\n",
        "######################  TODO  ########################\n",
        "\n",
        "def get_config():\n",
        "    return{\n",
        "        'batch_size': 8,\n",
        "        'num_epochs': 20,\n",
        "        'lr': 10**-4,\n",
        "        'seq_len': 350,\n",
        "        'd_model': 512,\n",
        "        'lang_src': 'en',\n",
        "        'lang_tgt': 'it',\n",
        "        'model_folder': 'weights',\n",
        "        'model_basename': 'tmodel_',\n",
        "        'preload': None,\n",
        "        'tokenizer_file': 'tokenizer_{0}.json',\n",
        "        'experiment_name': 'runs/tmodel'\n",
        "    }\n",
        "\n",
        "def get_weights_file_path(config, epoch: str):\n",
        "    model_folder = config['model_folder']\n",
        "    model_basename = config['model_basename']\n",
        "    model_filename = f\"{model_basename}{epoch}.pt\"\n",
        "    return str(Path('.')/ model_folder/ model_filename)\n"
      ]
    },
    {
      "cell_type": "markdown",
      "metadata": {
        "id": "Qw7SjmrDqr_S"
      },
      "source": [
        "<p style = \"font-family: 'Helvetica Neue', Arial, sans-serif; text-align: left; font-size: 17.5px\">We finally define our last function, <code>train_model</code>, which takes the <code>config</code> arguments as input. </p>\n",
        "\n",
        "<p style = \"font-family: 'Helvetica Neue', Arial, sans-serif; text-align: left; font-size: 17.5px\">In this function, we will set everything up for the training. We will load the model and its necessary components onto the GPU for faster training, set the <code>Adam</code> optimizer, and configure the <code>CrossEntropyLoss</code> function to compute the differences between the translations output by the model and the reference translations from the dataset. </p>\n",
        "\n",
        "<p style = \"font-family: 'Helvetica Neue', Arial, sans-serif; text-align: left; font-size: 17.5px\">Every loop necessary for iterating over the training batches, performing backpropagation, and computing the gradients is in this function. We will also use it to run the validation function and save the current state of the model.</p>"
      ]
    },
    {
      "cell_type": "code",
      "execution_count": null,
      "metadata": {
        "id": "2qK9wAjRxoDQ"
      },
      "outputs": [],
      "source": [
        "######################  TODO  ########################\n",
        "######################  TODO  ########################\n",
        "\n",
        "# - Define a `train_model` function to train a Transformer model\n",
        "# - Steps:\n",
        "#   1. Set up the device (GPU or CPU) for training\n",
        "#   2. Create a directory to store model weights\n",
        "#   3. Retrieve dataloaders and tokenizers for source and target languages using `get_ds`\n",
        "#   4. Initialize the Transformer model using `get_model` and move it to the specified device\n",
        "#   5. Set up TensorBoard for logging training metrics\n",
        "#   6. Configure the Adam optimizer with learning rate and epsilon from `config`\n",
        "#   7. If a pre-trained model exists:\n",
        "#      - Load the model, optimizer state, and global step\n",
        "#      - Set the starting epoch for resuming training\n",
        "#   8. Define a cross-entropy loss function:\n",
        "#      - Ignore padding tokens\n",
        "#      - Apply label smoothing to prevent overfitting\n",
        "#   9. Start training loop:\n",
        "#      - Iterate over epochs from the initial epoch to `config['num_epochs']`\n",
        "#      - For each batch in the training dataloader:\n",
        "#         - Set model to training mode\n",
        "#         - Move input data, masks, and labels to the device\n",
        "#         - Pass data through the encoder, decoder, and projection layer\n",
        "#         - Compute loss between model predictions and labels\n",
        "#         - Log training loss to TensorBoard\n",
        "#         - Perform backpropagation and update model parameters\n",
        "#         - Clear gradients for the next batch\n",
        "#         - Increment global step counter\n",
        "#      - After each epoch, run validation using `run_validation`\n",
        "#      - Save the current model state, optimizer state, and global step\n",
        "#   10. Save model weights after each epoch\n",
        "\n",
        "######################  TODO  ########################\n",
        "######################  TODO  ########################\n",
        "\n",
        "def train_model(train_config):\n",
        "    compute_device = torch.device('cuda' if torch.cuda.is_available() else 'cpu')\n",
        "    print(f\"Using device {compute_device}\")\n",
        "    Path(train_config['model_folder']).mkdir(parents=True, exist_ok=True)\n",
        "\n",
        "    training_loader, validation_loader, source_tokenizer, target_tokenizer = get_ds(train_config)\n",
        "    transformer_model = get_model(train_config, source_tokenizer.get_vocab_size(),\n",
        "                                  target_tokenizer.get_vocab_size()).to(compute_device)\n",
        "\n",
        "    log_writer = SummaryWriter(train_config['experiment_name'])\n",
        "\n",
        "    optimizer = torch.optim.Adam(transformer_model.parameters(), lr=train_config['lr'], eps=1e-9)\n",
        "\n",
        "    start_epoch = 0\n",
        "    total_steps = 0\n",
        "\n",
        "    if train_config['preload']:\n",
        "        model_path = get_weights_file_path(train_config, train_config['preload'])\n",
        "        print(f'Loading pretrained model from {model_path}')\n",
        "        checkpoint = torch.load(model_path)\n",
        "\n",
        "        start_epoch = checkpoint['epoch'] + 1\n",
        "        optimizer.load_state_dict(checkpoint['optimizer_state_dict'])\n",
        "        total_steps = checkpoint['global_step']\n",
        "\n",
        "    loss_function = nn.CrossEntropyLoss(ignore_index=source_tokenizer.token_to_id('[PAD]'),\n",
        "                                        label_smoothing=0.1).to(compute_device)\n",
        "\n",
        "    for current_epoch in range(start_epoch, train_config['num_epochs']):\n",
        "        epoch_iterator = tqdm(training_loader, desc=f'Epoch {current_epoch:02d}')\n",
        "        for data_batch in epoch_iterator:\n",
        "            transformer_model.train()\n",
        "\n",
        "            input_encoder = data_batch['encoder_input'].to(compute_device)\n",
        "            input_decoder = data_batch['decoder_input'].to(compute_device)\n",
        "            mask_encoder = data_batch['encoder_mask'].to(compute_device)\n",
        "            mask_decoder = data_batch['decoder_mask'].to(compute_device)\n",
        "\n",
        "            encoded_output = transformer_model.encode(input_encoder, mask_encoder)\n",
        "            decoded_output = transformer_model.decode(encoded_output, mask_encoder, input_decoder, mask_decoder)\n",
        "            projected_output = transformer_model.project(decoded_output)\n",
        "\n",
        "            target_labels = data_batch['label'].to(compute_device)\n",
        "\n",
        "            batch_loss = loss_function(projected_output.view(-1, target_tokenizer.get_vocab_size()),\n",
        "                                       target_labels.view(-1))\n",
        "\n",
        "            epoch_iterator.set_postfix({\"loss\": f\"{batch_loss.item():6.3f}\"})\n",
        "\n",
        "            log_writer.add_scalar('training_loss', batch_loss.item(), total_steps)\n",
        "            log_writer.flush()\n",
        "            batch_loss.backward()\n",
        "\n",
        "            optimizer.step()\n",
        "            optimizer.zero_grad()\n",
        "\n",
        "            total_steps += 1\n",
        "\n",
        "        run_validation(transformer_model, validation_loader, source_tokenizer,\n",
        "                       target_tokenizer, train_config['seq_len'], compute_device,\n",
        "                       lambda message: epoch_iterator.write(message), total_steps, log_writer)\n",
        "\n",
        "        saved_model_path = get_weights_file_path(train_config, f'{current_epoch:02d}')\n",
        "\n",
        "        torch.save({'epoch': current_epoch, 'model_state_dict': transformer_model.state_dict(),\n",
        "                    'optimizer_state_dict': optimizer.state_dict(), 'global_step': total_steps}, saved_model_path)\n",
        "\n"
      ]
    },
    {
      "cell_type": "markdown",
      "metadata": {
        "id": "nrMmfyi8xrXw"
      },
      "source": [
        "We can now train the model!"
      ]
    },
    {
      "cell_type": "code",
      "execution_count": null,
      "metadata": {
        "colab": {
          "base_uri": "https://localhost:8080/",
          "height": 1000,
          "referenced_widgets": [
            "33128df7723a40628224ad0dee0439d8",
            "3eb2eed779b0463cbb9360ffa1e4b4ff",
            "cc8928d4dc1e4f9b90a54e1e0515f3c7",
            "f8b3ba66e6364a11a034078acb4b97a3",
            "542dc5c8061044d9a14508f05fcef6cc",
            "6a0aff9a0f6348df88ff29f5f614db90",
            "53f97062d944483f853d66cc08cb8827",
            "15676ac21eb2476ea9d840b26d747cb6",
            "e53330e5789b4c1cbd01894a4f725b76",
            "873a98674c4743279e01f8901f25a0dc",
            "6430bdb3504d4ed3bc6bda66f648711e",
            "a967bd28de4146f58fb72d7b9c5d972f",
            "617a6d07b6cf458b9b9a79526cf05322",
            "0c44e5a2825249f787520778054bd396",
            "38e54d17612c4119aa1886ad0c836931",
            "55b8e295d94644ceba6c2561fc2ddbf6",
            "bc8bf9d72b10420db8198c3dbe02a3a2",
            "899d6c908a9942aeb5afc970596ce124",
            "13373bafa68f4e0aa30274ab7907e7f9",
            "e5bc38adf37949808730d7d283c4cfd6",
            "276365e8cc4740588808806f33307448",
            "dde1b7f5b0614ac7be0d7bf9c97571e7",
            "d8cf4594b5fa46abb39cedb4832ae3c6",
            "a11aa3fb114e41d786dcb2aca067971a",
            "921a1341c31a460b832bb9bf31454fa5",
            "5ab1fcf5e79d4a3c8833c76c50c694d1",
            "cce15278333d451280ddeae44d7e2404",
            "65dc2fe9036c4f9da807a8d38d9c7fa1",
            "ae0352e6d625470db24346cedb28fdc8",
            "fd5a57e508494670aa91ffe18eae1dc1",
            "bfd3d86eef1644098848313740173f75",
            "14a917d0924b49ad86f7d4dc7c619b15",
            "20acfd98e40146ddbef55a763dc2a973"
          ]
        },
        "id": "28425EYaxrsi",
        "outputId": "8cab4364-b2ac-4ebd-bc45-7efa15673c38"
      },
      "outputs": [
        {
          "name": "stdout",
          "output_type": "stream",
          "text": [
            "Using device cuda\n"
          ]
        },
        {
          "data": {
            "application/vnd.jupyter.widget-view+json": {
              "model_id": "33128df7723a40628224ad0dee0439d8",
              "version_major": 2,
              "version_minor": 0
            },
            "text/plain": [
              "README.md:   0%|          | 0.00/28.1k [00:00<?, ?B/s]"
            ]
          },
          "metadata": {},
          "output_type": "display_data"
        },
        {
          "data": {
            "application/vnd.jupyter.widget-view+json": {
              "model_id": "a967bd28de4146f58fb72d7b9c5d972f",
              "version_major": 2,
              "version_minor": 0
            },
            "text/plain": [
              "train-00000-of-00001.parquet:   0%|          | 0.00/5.73M [00:00<?, ?B/s]"
            ]
          },
          "metadata": {},
          "output_type": "display_data"
        },
        {
          "data": {
            "application/vnd.jupyter.widget-view+json": {
              "model_id": "d8cf4594b5fa46abb39cedb4832ae3c6",
              "version_major": 2,
              "version_minor": 0
            },
            "text/plain": [
              "Generating train split:   0%|          | 0/32332 [00:00<?, ? examples/s]"
            ]
          },
          "metadata": {},
          "output_type": "display_data"
        },
        {
          "name": "stdout",
          "output_type": "stream",
          "text": [
            "Max length of source sentence: 309\n",
            "Max length of target sentence: 274\n"
          ]
        },
        {
          "name": "stderr",
          "output_type": "stream",
          "text": [
            "Epoch 00: 100%|██████████| 3638/3638 [25:19<00:00,  2.39it/s, loss=6.265]\n"
          ]
        },
        {
          "name": "stdout",
          "output_type": "stream",
          "text": [
            "--------------------------------------------------------------------------------\n",
            "SOURCE: I consider my ideas very important, yet they too turn out to be insignificant – and would be, even if it were as possible to carry them out as it was to surround this bear.\n",
            "TARGET: Ecco, io considero molto importante la mia idea, eppure questa anche a pensarla attuata appare così insignificante come fare il giro della pelle di quest’orso.\n",
            "PREDICTED: Io non mi era stata , ma non mi era stato , ma non mi era stato , ma non mi era stato , ma non mi era mai mai mai , ma non mi .\n",
            "--------------------------------------------------------------------------------\n",
            "SOURCE: Good evening!\"\n",
            "TARGET: Buona sera!\n",
            "PREDICTED: — Sì , signore .\n"
          ]
        },
        {
          "name": "stderr",
          "output_type": "stream",
          "text": [
            "Epoch 01: 100%|██████████| 3638/3638 [25:22<00:00,  2.39it/s, loss=4.308]\n"
          ]
        },
        {
          "name": "stdout",
          "output_type": "stream",
          "text": [
            "--------------------------------------------------------------------------------\n",
            "SOURCE: Because he, having a lofty spirit and far-reaching aims, could not have regulated his conduct otherwise, and only the shortness of the life of Alexander and his own sickness frustrated his designs.\n",
            "TARGET: Perché lui avendo l'animo grande e la sua intenzione alta, non si poteva governare altrimenti; e solo si oppose alli sua disegni la brevità della vita di Alessandro e la malattia sua.\n",
            "PREDICTED: E perché , come , e , non si , e non si , ma non si , e , e , e .\n",
            "--------------------------------------------------------------------------------\n",
            "SOURCE: 'Well, let us see which of them will step first on the mat!\n",
            "TARGET: — Via, guardiamo chi dei due mette prima il piede sul tappeto.\n",
            "PREDICTED: — E , come , , , la notte .\n"
          ]
        },
        {
          "name": "stderr",
          "output_type": "stream",
          "text": [
            "Epoch 02: 100%|██████████| 3638/3638 [25:21<00:00,  2.39it/s, loss=4.874]\n"
          ]
        },
        {
          "name": "stdout",
          "output_type": "stream",
          "text": [
            "--------------------------------------------------------------------------------\n",
            "SOURCE: They were delighted with the renovation and decorations of their rooms; with the new drapery, and fresh carpets, and rich tinted china vases: they expressed their gratification ungrudgingly.\n",
            "TARGET: Salii con le mie cugine nelle camere, ed esse furono contentissime dei cambiamenti fatti da me e non si saziavano di ammirare le stoffe nuove, i bei tappeti e gli eleganti vasi di porcellana. Esse mi esprimevano con molto calore la loro gratitudine.\n",
            "PREDICTED: Erano le donne e i , i , e i , e i , e i , i , i .\n",
            "--------------------------------------------------------------------------------\n",
            "SOURCE: Mr. Rochester had sometimes read my unspoken thoughts with an acumen to me incomprehensible: in the present instance he took no notice of my abrupt vocal response; but he smiled at me with a certain smile he had of his own, and which he used but on rare occasions. He seemed to think it too good for common purposes: it was the real sunshine of feeling--he shed it over me now.\n",
            "TARGET: Il signor Rochester aveva spesso letto nei miei pensieri con un acume incomprensibile. In quel momento egli non fece attenzione alla mia breve risposta; egli mi sorrise, con uno di quei sorrisi che gli erano proprii e che usava raramente; forse gli pareva troppo bello per abusarne; fu un vero raggio di sole del sentimento che lasciò splendere su di me.\n",
            "PREDICTED: Il signor Rochester mi era stata una donna che mi aveva detto che mi , e non mi , ma non mi , ma non mi la sua voce , e che mi aveva detto che mi aveva detto che mi era stata una donna che mi era stata una donna che mi era stata una donna di lei .\n"
          ]
        },
        {
          "name": "stderr",
          "output_type": "stream",
          "text": [
            "Epoch 03: 100%|██████████| 3638/3638 [25:22<00:00,  2.39it/s, loss=5.064]\n"
          ]
        },
        {
          "name": "stdout",
          "output_type": "stream",
          "text": [
            "--------------------------------------------------------------------------------\n",
            "SOURCE: 'I am seeking for a way of making labour profitable for me and for the labourers,' he answered hotly.\n",
            "TARGET: — Io cerco mezzi per lavorare produttivamente e per me e per i lavoratori.\n",
            "PREDICTED: — Io sono molto contenta di per me e per me la stessa cosa — disse .\n",
            "--------------------------------------------------------------------------------\n",
            "SOURCE: But you will not remain satisfied for long.\n",
            "TARGET: Ma poi questo non ti basterà. Non direi così a tuo fratello.\n",
            "PREDICTED: Ma non vi più .\n"
          ]
        },
        {
          "name": "stderr",
          "output_type": "stream",
          "text": [
            "Epoch 04: 100%|██████████| 3638/3638 [25:22<00:00,  2.39it/s, loss=4.576]\n"
          ]
        },
        {
          "name": "stdout",
          "output_type": "stream",
          "text": [
            "--------------------------------------------------------------------------------\n",
            "SOURCE: It made him younger.\n",
            "TARGET: Lo ringiovaniva.\n",
            "PREDICTED: Era un ’ altra parte .\n",
            "--------------------------------------------------------------------------------\n",
            "SOURCE: She won't do it again,' he pleaded, referring to the small culprit, who had not gone to Fanny but stood hesitatingly before her mother, looking up from under her brows, expecting and trying to catch her eye.\n",
            "TARGET: Non lo farà più — disse egli della piccola delinquente, che non andava da Fanny e stava lì in piedi, indecisa dinanzi alla madre, aspettando e cercando il suo sguardo di sotto in su.\n",
            "PREDICTED: Non ci si sa nulla — disse , , la conversazione che non aveva avuto la madre , ma non aveva avuto bisogno di , si fermò , e , la madre .\n"
          ]
        },
        {
          "name": "stderr",
          "output_type": "stream",
          "text": [
            "Epoch 05: 100%|██████████| 3638/3638 [25:22<00:00,  2.39it/s, loss=3.484]\n"
          ]
        },
        {
          "name": "stdout",
          "output_type": "stream",
          "text": [
            "--------------------------------------------------------------------------------\n",
            "SOURCE: He, of course, made frantic struggles for freedom - the birthright of every Englishman, - and, in doing so (I learned this afterwards), knocked over George; and then George, swearing at Harris, began to struggle too, and got himself entangled and rolled up.\n",
            "TARGET: Naturalmente faceva dei frenetici sforzi per la conquista della libertà — il diritto di nascita di tutti gl’inglesi — e nei suoi sforzi (l’appresi dopo) stramazzò su Giorgio; e allora Giorgio, imprecando ad Harris, cominciò a divincolarsi, per finir poi col trovarsi impigliato e avviluppato anche lui.\n",
            "PREDICTED: Egli , evidentemente , si , le sue , , e , dopo aver , così come , Giorgio , e , dopo , a questo , cominciò a , e a , si mise a , e si , e si , e si , e si , e si , e si .\n",
            "--------------------------------------------------------------------------------\n",
            "SOURCE: It is not that I object to the work, mind you; I like work: it fascinates me. I can sit and look at it for hours.\n",
            "TARGET: Non che io abbia da ridire nulla contro il lavoro, si badi: il lavoro mi piace e mi affascina, e me ne sto seduto a guardarlo per ore e ore.\n",
            "PREDICTED: Non è possibile che la prima volta , e mi , perché mi di nuovo , e mi sempre più .\n"
          ]
        },
        {
          "name": "stderr",
          "output_type": "stream",
          "text": [
            "Epoch 06: 100%|██████████| 3638/3638 [25:20<00:00,  2.39it/s, loss=4.583]\n"
          ]
        },
        {
          "name": "stdout",
          "output_type": "stream",
          "text": [
            "--------------------------------------------------------------------------------\n",
            "SOURCE: Varenka, hearing Kitty's voice and her mother reprimanding her, came up with her light step.\n",
            "TARGET: Varen’ka, udita la voce di Kitty e il rimprovero della madre, si accostò a Kitty a passi rapidi e leggeri.\n",
            "PREDICTED: Varen ’ ka , ascoltando la voce di Kitty e la madre si accostò alla madre .\n",
            "--------------------------------------------------------------------------------\n",
            "SOURCE: It is quite possible that if the forms do not coincide with my requirements I shall forgo my legitimate desire.'\n",
            "TARGET: Molto probabilmente, dunque, se le forme non coincideranno con le mie aspirazioni, rinuncerò all’azione legale.\n",
            "PREDICTED: È possibile che , se non è possibile , non la debolezza , mi la mia situazione .\n"
          ]
        },
        {
          "name": "stderr",
          "output_type": "stream",
          "text": [
            "Epoch 07: 100%|██████████| 3638/3638 [25:21<00:00,  2.39it/s, loss=4.344]\n"
          ]
        },
        {
          "name": "stdout",
          "output_type": "stream",
          "text": [
            "--------------------------------------------------------------------------------\n",
            "SOURCE: So we went to the high- level platform, and saw the engine-driver, and asked him if he was going to Kingston.\n",
            "TARGET: Andammo quindi alla piattaforma ad alto livello, e ci presentammo al macchinista, domandandogli se fosse diretto a Kingston.\n",
            "PREDICTED: Così , dopo aver portato il professore , e , il cocchiere , gli domandò se fosse andato a Kingston .\n",
            "--------------------------------------------------------------------------------\n",
            "SOURCE: You follow me, sur.\"\n",
            "TARGET: Seguitemi, signore.\n",
            "PREDICTED: Mi , signore .\n"
          ]
        },
        {
          "name": "stderr",
          "output_type": "stream",
          "text": [
            "Epoch 08: 100%|██████████| 3638/3638 [25:22<00:00,  2.39it/s, loss=3.460]\n"
          ]
        },
        {
          "name": "stdout",
          "output_type": "stream",
          "text": [
            "--------------------------------------------------------------------------------\n",
            "SOURCE: Kitty followed her.\n",
            "TARGET: Kitty la seguì.\n",
            "PREDICTED: Kitty si accostò .\n",
            "--------------------------------------------------------------------------------\n",
            "SOURCE: 'And how do you agree with Spencer yourself in this matter?'\n",
            "TARGET: — E come mai voi stesso concordate in questo con lo Spencer? — domandò Levin.\n",
            "PREDICTED: — E come mai si con questo ?\n"
          ]
        },
        {
          "name": "stderr",
          "output_type": "stream",
          "text": [
            "Epoch 09:   8%|▊         | 295/3638 [02:03<23:23,  2.38it/s, loss=3.197]"
          ]
        }
      ],
      "source": [
        "if __name__ == '__main__':\n",
        "    warnings.filterwarnings('ignore')\n",
        "    config = get_config()\n",
        "    train_model(config)\n",
        "    pass"
      ]
    },
    {
      "cell_type": "markdown",
      "metadata": {
        "id": "v3axMN7QWiVH"
      },
      "source": [
        "# Section 2: BERT and LoRA\n",
        "\n",
        "Welcome to Section 2 of our Machine Learning assignment! I hope you've been enjoying the journey so far! 😊\n",
        "\n",
        " In this section, you will gain hands-on experience with [BERT](https://arxiv.org/abs/1810.04805) (Bidirectional Encoder Representations from Transformers) and [LoRA](https://arxiv.org/abs/2106.09685) (Low-Rank Adaptation) for text classification tasks. The section is divided into three main parts, each focusing on different aspects of NLP techniques.\n",
        "\n",
        "## Assignment Structure\n",
        "\n",
        "### Part 1: Data Preparation and Preprocessing\n",
        "In this part, you will work with a text classification dataset. You will learn how to:\n",
        "- Download and load the dataset\n",
        "- Perform necessary preprocessing steps\n",
        "- Implement data cleaning and transformation techniques\n",
        "- Prepare the data in a format suitable for BERT training\n",
        "\n",
        "### Part 2: Building a Small BERT Model\n",
        "You will create and train a small BERT model from scratch using the Hugging Face [Transformers](https://huggingface.co/docs/transformers/en/index) library. This part will help you understand:\n",
        "- The architecture of BERT\n",
        "- How to configure and initialize a BERT model\n",
        "- Training process and optimization\n",
        "- Model evaluation and performance analysis\n",
        "\n",
        "### Part 3: Fine-tuning with LoRA\n",
        "In the final part, you will work with a pre-trained [TinyBERT](https://arxiv.org/abs/1909.10351) model and use LoRA for efficient fine-tuning. You will:\n",
        "- Load a pre-trained TinyBERT model\n",
        "- Implement LoRA adaptation and fine-tune the model on our classification task\n",
        "- Compare the results with the previous approach"
      ]
    },
    {
      "cell_type": "markdown",
      "metadata": {
        "id": "M6FKcSFbOTMd"
      },
      "source": [
        "---\n",
        "\n",
        "> **NOTE**:  \n",
        "> Throughout this notebook, make an effort to include sufficient visualizations to enhance understanding:  \n",
        "> - In the data processing section, display the results of your operations (e.g., show data samples or distributions after preprocessing).  \n",
        "> - In the classification section, report various evaluation metrics such as accuracy, precision, recall, and F1-score to thoroughly assess your model's performance.  \n",
        "> - Additionally, take a moment to compare the sizes of the models discussed in this notebook with today’s enormous models. This will help you appreciate the challenges and computational demands associated with training such massive models. 😵‍💫\n",
        "\n",
        "---\n"
      ]
    },
    {
      "cell_type": "markdown",
      "metadata": {
        "id": "GHKw2r6yYV7n"
      },
      "source": [
        "## Part 1: Data Preparation and Preprocessing\n",
        "We'll be working with the [Consumer Complaint](https://catalog.data.gov/dataset/consumer-complaint-database) dataset, which contains ***complaints*** submitted by consumers about financial products and services. Our goal is to build a classifier that can automatically identify the type of complaint based on the consumer's text description. For this task, we will work with a smaller subset of the dataset, available for download through this [link](https://drive.google.com/file/d/1SpIHksR-WzruEgUjp1SQKGG8bZPnJJoN/view?usp=sharing)."
      ]
    },
    {
      "cell_type": "code",
      "execution_count": null,
      "metadata": {
        "id": "7ELMR8kXUh3o"
      },
      "outputs": [],
      "source": [
        "import torch\n",
        "from torch.utils.data import Dataset, DataLoader\n",
        "from transformers import BertTokenizer, BertForSequenceClassification, AdamW, BertConfig\n",
        "from sklearn.model_selection import train_test_split\n",
        "import numpy as np\n",
        "import pandas as pd\n",
        "from sklearn.preprocessing import LabelEncoder\n",
        "from tqdm import tqdm"
      ]
    },
    {
      "cell_type": "markdown",
      "metadata": {
        "id": "9oJXlKLYeymq"
      },
      "source": [
        "### 1.2 Loading the Data"
      ]
    },
    {
      "cell_type": "code",
      "execution_count": 3,
      "metadata": {
        "id": "mGga8BmnUcl0"
      },
      "outputs": [
        {
          "data": {
            "text/html": [
              "<div>\n",
              "<style scoped>\n",
              "    .dataframe tbody tr th:only-of-type {\n",
              "        vertical-align: middle;\n",
              "    }\n",
              "\n",
              "    .dataframe tbody tr th {\n",
              "        vertical-align: top;\n",
              "    }\n",
              "\n",
              "    .dataframe thead th {\n",
              "        text-align: right;\n",
              "    }\n",
              "</style>\n",
              "<table border=\"1\" class=\"dataframe\">\n",
              "  <thead>\n",
              "    <tr style=\"text-align: right;\">\n",
              "      <th></th>\n",
              "      <th>Product</th>\n",
              "      <th>Complaint_text</th>\n",
              "    </tr>\n",
              "  </thead>\n",
              "  <tbody>\n",
              "    <tr>\n",
              "      <th>0</th>\n",
              "      <td>Credit reporting, credit repair services, or o...</td>\n",
              "      <td>My credit reports are inaccurate. These inaccu...</td>\n",
              "    </tr>\n",
              "    <tr>\n",
              "      <th>1</th>\n",
              "      <td>Student loan</td>\n",
              "      <td>Beginning in XX/XX/XXXX I had taken out studen...</td>\n",
              "    </tr>\n",
              "    <tr>\n",
              "      <th>2</th>\n",
              "      <td>Credit reporting or other personal consumer re...</td>\n",
              "      <td>I am disputing a charge-off on my account that...</td>\n",
              "    </tr>\n",
              "    <tr>\n",
              "      <th>3</th>\n",
              "      <td>Credit reporting, credit repair services, or o...</td>\n",
              "      <td>I did not consent to, authorize, nor benefit f...</td>\n",
              "    </tr>\n",
              "    <tr>\n",
              "      <th>4</th>\n",
              "      <td>Credit reporting or other personal consumer re...</td>\n",
              "      <td>I am a federally protected consumer and I am a...</td>\n",
              "    </tr>\n",
              "  </tbody>\n",
              "</table>\n",
              "</div>"
            ],
            "text/plain": [
              "                                             Product  \\\n",
              "0  Credit reporting, credit repair services, or o...   \n",
              "1                                       Student loan   \n",
              "2  Credit reporting or other personal consumer re...   \n",
              "3  Credit reporting, credit repair services, or o...   \n",
              "4  Credit reporting or other personal consumer re...   \n",
              "\n",
              "                                      Complaint_text  \n",
              "0  My credit reports are inaccurate. These inaccu...  \n",
              "1  Beginning in XX/XX/XXXX I had taken out studen...  \n",
              "2  I am disputing a charge-off on my account that...  \n",
              "3  I did not consent to, authorize, nor benefit f...  \n",
              "4  I am a federally protected consumer and I am a...  "
            ]
          },
          "execution_count": 3,
          "metadata": {},
          "output_type": "execute_result"
        }
      ],
      "source": [
        "######################  TODO  ########################\n",
        "######################  TODO  ########################\n",
        "# Load the dataset\n",
        "file_path = 'complaints_small.csv'\n",
        "data = pd.read_csv(file_path).rename(columns={'Consumer complaint narrative':'Complaint_text'})\n",
        "data.head(5)\n",
        "######################  TODO  ########################\n",
        "######################  TODO  ########################"
      ]
    },
    {
      "cell_type": "markdown",
      "metadata": {
        "id": "L9hr8-FNgpVO"
      },
      "source": [
        "### 1.3 Data Sampling and Class Distribution Analysis\n",
        "\n",
        "Working with large datasets can be computationally intensive during development. Additionally, imbalanced class distribution can affect model performance. In this section, you'll sample the data and analyze class distributions to make informed decisions about your training dataset."
      ]
    },
    {
      "cell_type": "markdown",
      "metadata": {
        "id": "Cl_g_ZU4h5RG"
      },
      "source": [
        "---\n",
        "\n",
        "We'll work with a manageable portion of the data to develop and test our approach. While using the complete dataset would likely yield better results, a smaller sample allows us to prototype our solution more efficiently.\n"
      ]
    },
    {
      "cell_type": "code",
      "execution_count": null,
      "metadata": {
        "id": "QAJUXNCFhYsf"
      },
      "outputs": [],
      "source": [
        "######################  TODO  ########################\n",
        "######################  TODO  ########################\n",
        "# - Sample a portion of the complete dataset\n",
        "# - Display the first few rows of your sampled dataset\n",
        "# - Print the shape of your original and sampled datasets\n",
        "\n",
        "######################  TODO  ########################\n",
        "######################  TODO  ########################"
      ]
    },
    {
      "cell_type": "markdown",
      "metadata": {
        "id": "50a4NJeMiBb6"
      },
      "source": [
        "---\n",
        "\n",
        "Let's examine the distribution of ***complaints*** types in our dataset. You'll notice that some products have significantly more instances than others, and some categories are quite similar. For example:\n",
        "\n",
        "- Multiple categories might refer to similar financial products\n",
        "- Some categories might have very few examples\n",
        "- Certain categories might be subcategories of others\n",
        "\n",
        "You have two main approaches to handle this situation:\n",
        "\n",
        "1. **Merging Similar Classes:** Identify categories that represent similar products/services and Combine them to create more robust, general categories\n",
        "\n",
        "2. **Selecting Major Classes:** Only select the categories with sufficient representation\n",
        "\n",
        "\n",
        "\n",
        "> You may choose any approach, but after this step, your data must include **at least five** distinct classes.\n",
        "\n"
      ]
    },
    {
      "cell_type": "code",
      "execution_count": null,
      "metadata": {
        "id": "nby2Hrwwjd46"
      },
      "outputs": [],
      "source": [
        "######################  TODO  ########################\n",
        "######################  TODO  ########################\n",
        "\n",
        "# - Display the number of complaints in each product category\n",
        "# - Identify which classes are under-represented\n",
        "\n",
        "# - Handle class imbalance by choosing and implementing one of these approaches:\n",
        "#   1. Merge similar product categories (e.g., combining related categories)\n",
        "#   2. Keep only the major classes with sufficient examples\n",
        "\n",
        "######################  TODO  ########################\n",
        "######################  TODO  ########################"
      ]
    },
    {
      "cell_type": "markdown",
      "metadata": {
        "id": "lD3oISsijt1P"
      },
      "source": [
        "---\n",
        "### 1.4 Data Encoding and Text Preprocessing\n",
        "\n",
        "Before training our model, we need to prepare both our target labels and text data. This involves converting categorical labels into numerical format and cleaning our text data to improve model performance."
      ]
    },
    {
      "cell_type": "code",
      "execution_count": null,
      "metadata": {
        "id": "pAmaRU92mGyT"
      },
      "outputs": [],
      "source": [
        "######################  TODO  ########################\n",
        "######################  TODO  ########################\n",
        "\n",
        "# Label Encoding\n",
        "# - Apply label encoding to convert product categories into numeric values\n",
        "\n",
        "# Text Preprocessing\n",
        "# Choose and implement preprocessing steps that you think will improve the quality of your text data.\n",
        "# Here are some suggestions:\n",
        "\n",
        "# - Remove special characters and punctuation\n",
        "# - Remove very short complaints (e.g., less than 10 words)\n",
        "# - Remove HTML tags if present\n",
        "\n",
        "######################  TODO  ########################\n",
        "######################  TODO  ########################"
      ]
    },
    {
      "cell_type": "markdown",
      "metadata": {
        "id": "j4jVvN4oopUU"
      },
      "source": [
        "## 1.5 Dataset Creation and Tokenization\n",
        "\n",
        "For training our BERT model, we need to:\n",
        "1. Create a custom Dataset class that will handle tokenization\n",
        "2. Split the data into training and testing sets\n",
        "3. Use BERT's tokenizer to convert text into a format suitable for the model"
      ]
    },
    {
      "cell_type": "code",
      "execution_count": null,
      "metadata": {
        "id": "yHLQgJhopEh5"
      },
      "outputs": [],
      "source": [
        "######################  TODO  ########################\n",
        "######################  TODO  ########################\n",
        "\n",
        "class ComplaintDataset(Dataset):\n",
        "    \"\"\"A custom Dataset class for handling consumer complaints text data with BERT tokenization.\n",
        "\n",
        "    Parameters:\n",
        "        texts (List[str]): List of complaint texts to be processed\n",
        "        labels (List[int]): List of encoded labels corresponding to each text\n",
        "        tokenizer (BertTokenizer): A BERT tokenizer instance for text processing\n",
        "        max_len (int, optional): Maximum length for padding/truncating texts. Defaults to 512\n",
        "\n",
        "    Returns:\n",
        "        dict: For each item, returns a dictionary containing:\n",
        "            - input_ids (torch.Tensor): Encoded token ids of the text\n",
        "            - attention_mask (torch.Tensor): Attention mask for the padded sequence\n",
        "            - labels (torch.Tensor): Encoded label as a tensor\n",
        "    \"\"\"\n",
        "    def __init__(self, texts, labels, tokenizer, max_len=512):\n",
        "        ## TODO ##\n",
        "        pass\n",
        "\n",
        "    def __len__(self):\n",
        "        ## TODO ##\n",
        "        pass\n",
        "\n",
        "    def __getitem__(self, idx):\n",
        "        ## TODO ##\n",
        "        pass\n",
        "\n",
        "######################  TODO  ########################\n",
        "######################  TODO  ########################"
      ]
    },
    {
      "cell_type": "code",
      "execution_count": null,
      "metadata": {
        "id": "-js5x8M5mksA"
      },
      "outputs": [],
      "source": [
        "######################  TODO  ########################\n",
        "######################  TODO  ########################\n",
        "\n",
        "# Split the data\n",
        "X_train, X_test, y_train, y_test = # TODO\n",
        "\n",
        "# Initialize tokenizer and create datasets\n",
        "tokenizer = # TODO\n",
        "train_dataset = # TODO\n",
        "test_dataset = # TODO\n",
        "\n",
        "# Create dataloaders\n",
        "train_loader = # TODO\n",
        "test_loader = # TODO\n",
        "\n",
        "######################  TODO  ########################\n",
        "######################  TODO  ########################"
      ]
    },
    {
      "cell_type": "markdown",
      "metadata": {
        "id": "aMcc2gsbt0iJ"
      },
      "source": [
        "## Part 2: Training a Small-Size BERT Model\n",
        "\n",
        "In this part, we will explore how to build and train a small-sized BERT model for our classification task. Instead of using the full-sized BERT model, which is computationally expensive, we will create a smaller version using the Transformers library."
      ]
    },
    {
      "cell_type": "code",
      "execution_count": null,
      "metadata": {
        "id": "3RS5oBz3qmvu"
      },
      "outputs": [],
      "source": [
        "######################  TODO  ########################\n",
        "######################  TODO  ########################\n",
        "\n",
        "# 1. Define your BERT model for sequence classification\n",
        "#    Ensure that you set up the configuration properly (e.g., specify the number of output labels).\n",
        "# 2. Print the total number of trainable parameters in the model to understand its size.\n",
        "\n",
        "######################  TODO  ########################\n",
        "######################  TODO  ########################"
      ]
    },
    {
      "cell_type": "markdown",
      "metadata": {
        "id": "Xr4Z14a6wL2c"
      },
      "source": [
        "---\n",
        "\n",
        "Now that you have defined your model, it's time to train it!☠️\n",
        "\n",
        "Training a model of this size can take some time, depending on the available resources. To manage this, you can train your model for just **2–3 epochs** to demonstrate progress. Here are some hints:\n",
        "- **Training Metrics:** Ensure you print enough metrics, such as loss and accuracy, to track the training progress.\n",
        "- **Interactive Monitoring:** Use the `tqdm` library to display the progress of your training loop in real-time."
      ]
    },
    {
      "cell_type": "code",
      "execution_count": null,
      "metadata": {
        "id": "FRZW-F9Dw6AI"
      },
      "outputs": [],
      "source": [
        "######################  TODO  ########################\n",
        "######################  TODO  ########################\n",
        "\n",
        "optimizer = # TODO\n",
        "num_epochs = # TODO\n",
        "\n",
        "# Training loop\n",
        "for epoch in range(num_epochs):\n",
        "\n",
        "    model.train()\n",
        "\n",
        "    for batch in tqdm(train_loader):\n",
        "        optimizer.zero_grad()\n",
        "\n",
        "        input_ids = # TODO\n",
        "        attention_mask = # TODO\n",
        "        labels = # TODO\n",
        "\n",
        "        outputs = model(\n",
        "            input_ids=input_ids,\n",
        "            attention_mask=attention_mask,\n",
        "            labels=labels\n",
        "        )\n",
        "\n",
        "        # TODO: Perform backpropagation and update the optimizer. Hint: Use outputs.loss to access the model's loss.\n",
        "\n",
        "        # TODO: Monitor the training process by reporting metrics such as loss and accuracy.\n",
        "\n",
        "\n",
        "# TODO : Evaluate the model on test dataset\n",
        "\n",
        "######################  TODO  ########################\n",
        "######################  TODO  ########################"
      ]
    },
    {
      "cell_type": "markdown",
      "metadata": {
        "id": "-yHtTYcpz6AW"
      },
      "source": [
        "## Part 3: Fine-Tuning TinyBERT with LoRA\n",
        "\n",
        "As you have experienced, training even a small-sized BERT model can be computationally intensive and time-consuming. To address these challenges, we explore **Parameter-Efficient Fine-Tuning (PEFT)** methods, which allow us to utilize the power of large pretrained models without requiring extensive resources.\n",
        "\n",
        "---\n",
        "\n",
        "### **Parameter-Efficient Fine-Tuning (PEFT)**\n",
        "\n",
        "PEFT methods focus on fine-tuning only a small portion of the model’s parameters while keeping most of the pretrained weights frozen. This drastically reduces the computational and storage requirements while leveraging the rich knowledge embedded in pretrained models.\n",
        "\n",
        "One popular PEFT method is LoRA (Low-Rank Adaptation).\n",
        "\n",
        "- **What is LoRA?**\n",
        "\n",
        "LoRA introduces a mechanism to fine-tune large language models by injecting small low-rank matrices into the model's architecture. Instead of updating all parameters during training, LoRA trains these small matrices while keeping the majority of the original parameters frozen.  This is achieved as follows:\n",
        "\n",
        "1. **Frozen Weights**: The pretrained weights of the model, represented as a weight matrix $ W \\in \\mathbb{R}^{d \\times k} $, remain **frozen** during fine-tuning.\n",
        "\n",
        "2. **Low-Rank Decomposition**:\n",
        "   Instead of directly updating $ W $, LoRA introduces two trainable matrices, $ A \\in \\mathbb{R}^{d \\times r} $ and $ B \\in \\mathbb{R}^{r \\times k} $, where $ r \\ll \\min(d, k) $.  \n",
        "   These matrices approximate the update to $ W $ as:\n",
        "   $$\n",
        "   \\Delta W = A \\cdot B\n",
        "   $$\n",
        "\n",
        "   Here, $ r $, the rank of the decomposition, is a key hyperparameter that determines the trade-off between computational cost and model capacity.\n",
        "\n",
        "3. **Adaptation**:\n",
        "   During training, instead of updating $ W $, the adapted weight is:\n",
        "   $$\n",
        "   W' = W + \\Delta W = W + A \\cdot B\n",
        "   $$\n",
        "   Only the low-rank matrices $ A $ and $ B $ are optimized, while $ W $ remains fixed.\n",
        "\n",
        "4. **Efficiency**:\n",
        "   Since $ r $ is much smaller than $ d $ and $ k $, the number of trainable parameters in $ A $ and $ B $ is significantly less than in $ W $. This makes the approach highly efficient both in terms of computation and memory.\n",
        "\n",
        "---\n",
        "\n",
        "###  **Fine-Tuning TinyBERT**\n",
        "\n",
        "For this part, we will fine-tune **TinyBERT**, a distilled version of BERT, using the LoRA method.\n",
        "\n",
        "- **What is TinyBERT?**\n",
        "\n",
        "TinyBERT is a lightweight version of the original BERT model created through knowledge distillation. It significantly reduces the model size and inference latency while preserving much of the original BERT’s effectiveness. Here are some key characteristics of TinyBERT:\n",
        "- It is designed to be more resource-efficient for tasks such as classification, question answering, and more.\n",
        "- TinyBERT retains a compact structure with fewer layers and parameters, making it ideal for fine-tuning with limited computational resources.\n"
      ]
    },
    {
      "cell_type": "markdown",
      "metadata": {
        "id": "n_Og-pBeV5x6"
      },
      "source": [
        "> Similar to the previous section, training this model might take some time. Given the resource limitations, you can train the model for just **2-3 epochs** to demonstrate the process.\n"
      ]
    },
    {
      "cell_type": "code",
      "execution_count": null,
      "metadata": {
        "id": "fe1vGCZwU7MZ"
      },
      "outputs": [],
      "source": [
        "from transformers import AutoModelForSequenceClassification, AutoTokenizer\n",
        "from peft import get_peft_model, LoraConfig, TaskType\n",
        "import torch\n",
        "import torch.nn as nn\n",
        "from torch.utils.data import Dataset, DataLoader\n",
        "import numpy as np\n",
        "from tqdm import tqdm"
      ]
    },
    {
      "cell_type": "code",
      "execution_count": null,
      "metadata": {
        "id": "LIyN5vOLLWz6"
      },
      "outputs": [],
      "source": [
        "######################  TODO  ########################\n",
        "######################  TODO  ########################\n",
        "\n",
        "# Load the pre-trained TinyBERT\n",
        "model_name = \"prajjwal1/bert-tiny\"\n",
        "base_model = # TODO\n",
        "tokenizer = # TODO\n",
        "\n",
        "# Define LoRA Configuration\n",
        "lora_config = # TODO\n",
        "\n",
        "######################  TODO  ########################\n",
        "######################  TODO  ########################"
      ]
    },
    {
      "cell_type": "code",
      "execution_count": null,
      "metadata": {
        "id": "jMgwZ8YmLuZ_"
      },
      "outputs": [],
      "source": [
        "######################  TODO  ########################\n",
        "######################  TODO  ########################\n",
        "\n",
        "# Apply LoRA to model\n",
        "lora_model = # TODO\n",
        "\n",
        "# TODO: Show the number of trainable parameters\n",
        "\n",
        "# Training configuration\n",
        "optimizer = # TODO\n",
        "criterion = # TODO\n",
        "\n",
        "######################  TODO  ########################\n",
        "######################  TODO  ########################"
      ]
    },
    {
      "cell_type": "code",
      "execution_count": null,
      "metadata": {
        "id": "J395FrcWMbmx"
      },
      "outputs": [],
      "source": [
        "######################  TODO  ########################\n",
        "######################  TODO  ########################\n",
        "\n",
        "optimizer = # TODO\n",
        "num_epochs = # TODO\n",
        "\n",
        "# Training loop\n",
        "for epoch in range(num_epochs):\n",
        "\n",
        "    lora_model.train()\n",
        "\n",
        "    for batch in tqdm(train_loader):\n",
        "        optimizer.zero_grad()\n",
        "\n",
        "        input_ids = # TODO\n",
        "        attention_mask = # TODO\n",
        "        labels = # TODO\n",
        "\n",
        "        outputs = lora_model(\n",
        "            input_ids=input_ids,\n",
        "            attention_mask=attention_mask,\n",
        "            labels=labels\n",
        "        )\n",
        "\n",
        "        # TODO: Perform backpropagation and update the optimizer. Hint: Use outputs.loss to access the model's loss.\n",
        "\n",
        "        # TODO: Monitor the training process by reporting metrics such as loss and accuracy.\n",
        "\n",
        "\n",
        "# TODO : Evaluate the model on test dataset\n",
        "\n",
        "######################  TODO  ########################\n",
        "######################  TODO  ########################"
      ]
    }
  ],
  "metadata": {
    "accelerator": "GPU",
    "colab": {
      "gpuType": "T4",
      "provenance": []
    },
    "kernelspec": {
      "display_name": "base",
      "language": "python",
      "name": "python3"
    },
    "language_info": {
      "codemirror_mode": {
        "name": "ipython",
        "version": 3
      },
      "file_extension": ".py",
      "mimetype": "text/x-python",
      "name": "python",
      "nbconvert_exporter": "python",
      "pygments_lexer": "ipython3",
      "version": "3.11.5"
    },
    "widgets": {
      "application/vnd.jupyter.widget-state+json": {
        "0c44e5a2825249f787520778054bd396": {
          "model_module": "@jupyter-widgets/controls",
          "model_module_version": "1.5.0",
          "model_name": "FloatProgressModel",
          "state": {
            "_dom_classes": [],
            "_model_module": "@jupyter-widgets/controls",
            "_model_module_version": "1.5.0",
            "_model_name": "FloatProgressModel",
            "_view_count": null,
            "_view_module": "@jupyter-widgets/controls",
            "_view_module_version": "1.5.0",
            "_view_name": "ProgressView",
            "bar_style": "success",
            "description": "",
            "description_tooltip": null,
            "layout": "IPY_MODEL_13373bafa68f4e0aa30274ab7907e7f9",
            "max": 5726189,
            "min": 0,
            "orientation": "horizontal",
            "style": "IPY_MODEL_e5bc38adf37949808730d7d283c4cfd6",
            "value": 5726189
          }
        },
        "13373bafa68f4e0aa30274ab7907e7f9": {
          "model_module": "@jupyter-widgets/base",
          "model_module_version": "1.2.0",
          "model_name": "LayoutModel",
          "state": {
            "_model_module": "@jupyter-widgets/base",
            "_model_module_version": "1.2.0",
            "_model_name": "LayoutModel",
            "_view_count": null,
            "_view_module": "@jupyter-widgets/base",
            "_view_module_version": "1.2.0",
            "_view_name": "LayoutView",
            "align_content": null,
            "align_items": null,
            "align_self": null,
            "border": null,
            "bottom": null,
            "display": null,
            "flex": null,
            "flex_flow": null,
            "grid_area": null,
            "grid_auto_columns": null,
            "grid_auto_flow": null,
            "grid_auto_rows": null,
            "grid_column": null,
            "grid_gap": null,
            "grid_row": null,
            "grid_template_areas": null,
            "grid_template_columns": null,
            "grid_template_rows": null,
            "height": null,
            "justify_content": null,
            "justify_items": null,
            "left": null,
            "margin": null,
            "max_height": null,
            "max_width": null,
            "min_height": null,
            "min_width": null,
            "object_fit": null,
            "object_position": null,
            "order": null,
            "overflow": null,
            "overflow_x": null,
            "overflow_y": null,
            "padding": null,
            "right": null,
            "top": null,
            "visibility": null,
            "width": null
          }
        },
        "14a917d0924b49ad86f7d4dc7c619b15": {
          "model_module": "@jupyter-widgets/base",
          "model_module_version": "1.2.0",
          "model_name": "LayoutModel",
          "state": {
            "_model_module": "@jupyter-widgets/base",
            "_model_module_version": "1.2.0",
            "_model_name": "LayoutModel",
            "_view_count": null,
            "_view_module": "@jupyter-widgets/base",
            "_view_module_version": "1.2.0",
            "_view_name": "LayoutView",
            "align_content": null,
            "align_items": null,
            "align_self": null,
            "border": null,
            "bottom": null,
            "display": null,
            "flex": null,
            "flex_flow": null,
            "grid_area": null,
            "grid_auto_columns": null,
            "grid_auto_flow": null,
            "grid_auto_rows": null,
            "grid_column": null,
            "grid_gap": null,
            "grid_row": null,
            "grid_template_areas": null,
            "grid_template_columns": null,
            "grid_template_rows": null,
            "height": null,
            "justify_content": null,
            "justify_items": null,
            "left": null,
            "margin": null,
            "max_height": null,
            "max_width": null,
            "min_height": null,
            "min_width": null,
            "object_fit": null,
            "object_position": null,
            "order": null,
            "overflow": null,
            "overflow_x": null,
            "overflow_y": null,
            "padding": null,
            "right": null,
            "top": null,
            "visibility": null,
            "width": null
          }
        },
        "15676ac21eb2476ea9d840b26d747cb6": {
          "model_module": "@jupyter-widgets/base",
          "model_module_version": "1.2.0",
          "model_name": "LayoutModel",
          "state": {
            "_model_module": "@jupyter-widgets/base",
            "_model_module_version": "1.2.0",
            "_model_name": "LayoutModel",
            "_view_count": null,
            "_view_module": "@jupyter-widgets/base",
            "_view_module_version": "1.2.0",
            "_view_name": "LayoutView",
            "align_content": null,
            "align_items": null,
            "align_self": null,
            "border": null,
            "bottom": null,
            "display": null,
            "flex": null,
            "flex_flow": null,
            "grid_area": null,
            "grid_auto_columns": null,
            "grid_auto_flow": null,
            "grid_auto_rows": null,
            "grid_column": null,
            "grid_gap": null,
            "grid_row": null,
            "grid_template_areas": null,
            "grid_template_columns": null,
            "grid_template_rows": null,
            "height": null,
            "justify_content": null,
            "justify_items": null,
            "left": null,
            "margin": null,
            "max_height": null,
            "max_width": null,
            "min_height": null,
            "min_width": null,
            "object_fit": null,
            "object_position": null,
            "order": null,
            "overflow": null,
            "overflow_x": null,
            "overflow_y": null,
            "padding": null,
            "right": null,
            "top": null,
            "visibility": null,
            "width": null
          }
        },
        "20acfd98e40146ddbef55a763dc2a973": {
          "model_module": "@jupyter-widgets/controls",
          "model_module_version": "1.5.0",
          "model_name": "DescriptionStyleModel",
          "state": {
            "_model_module": "@jupyter-widgets/controls",
            "_model_module_version": "1.5.0",
            "_model_name": "DescriptionStyleModel",
            "_view_count": null,
            "_view_module": "@jupyter-widgets/base",
            "_view_module_version": "1.2.0",
            "_view_name": "StyleView",
            "description_width": ""
          }
        },
        "276365e8cc4740588808806f33307448": {
          "model_module": "@jupyter-widgets/base",
          "model_module_version": "1.2.0",
          "model_name": "LayoutModel",
          "state": {
            "_model_module": "@jupyter-widgets/base",
            "_model_module_version": "1.2.0",
            "_model_name": "LayoutModel",
            "_view_count": null,
            "_view_module": "@jupyter-widgets/base",
            "_view_module_version": "1.2.0",
            "_view_name": "LayoutView",
            "align_content": null,
            "align_items": null,
            "align_self": null,
            "border": null,
            "bottom": null,
            "display": null,
            "flex": null,
            "flex_flow": null,
            "grid_area": null,
            "grid_auto_columns": null,
            "grid_auto_flow": null,
            "grid_auto_rows": null,
            "grid_column": null,
            "grid_gap": null,
            "grid_row": null,
            "grid_template_areas": null,
            "grid_template_columns": null,
            "grid_template_rows": null,
            "height": null,
            "justify_content": null,
            "justify_items": null,
            "left": null,
            "margin": null,
            "max_height": null,
            "max_width": null,
            "min_height": null,
            "min_width": null,
            "object_fit": null,
            "object_position": null,
            "order": null,
            "overflow": null,
            "overflow_x": null,
            "overflow_y": null,
            "padding": null,
            "right": null,
            "top": null,
            "visibility": null,
            "width": null
          }
        },
        "33128df7723a40628224ad0dee0439d8": {
          "model_module": "@jupyter-widgets/controls",
          "model_module_version": "1.5.0",
          "model_name": "HBoxModel",
          "state": {
            "_dom_classes": [],
            "_model_module": "@jupyter-widgets/controls",
            "_model_module_version": "1.5.0",
            "_model_name": "HBoxModel",
            "_view_count": null,
            "_view_module": "@jupyter-widgets/controls",
            "_view_module_version": "1.5.0",
            "_view_name": "HBoxView",
            "box_style": "",
            "children": [
              "IPY_MODEL_3eb2eed779b0463cbb9360ffa1e4b4ff",
              "IPY_MODEL_cc8928d4dc1e4f9b90a54e1e0515f3c7",
              "IPY_MODEL_f8b3ba66e6364a11a034078acb4b97a3"
            ],
            "layout": "IPY_MODEL_542dc5c8061044d9a14508f05fcef6cc"
          }
        },
        "38e54d17612c4119aa1886ad0c836931": {
          "model_module": "@jupyter-widgets/controls",
          "model_module_version": "1.5.0",
          "model_name": "HTMLModel",
          "state": {
            "_dom_classes": [],
            "_model_module": "@jupyter-widgets/controls",
            "_model_module_version": "1.5.0",
            "_model_name": "HTMLModel",
            "_view_count": null,
            "_view_module": "@jupyter-widgets/controls",
            "_view_module_version": "1.5.0",
            "_view_name": "HTMLView",
            "description": "",
            "description_tooltip": null,
            "layout": "IPY_MODEL_276365e8cc4740588808806f33307448",
            "placeholder": "​",
            "style": "IPY_MODEL_dde1b7f5b0614ac7be0d7bf9c97571e7",
            "value": " 5.73M/5.73M [00:00&lt;00:00, 24.4MB/s]"
          }
        },
        "3eb2eed779b0463cbb9360ffa1e4b4ff": {
          "model_module": "@jupyter-widgets/controls",
          "model_module_version": "1.5.0",
          "model_name": "HTMLModel",
          "state": {
            "_dom_classes": [],
            "_model_module": "@jupyter-widgets/controls",
            "_model_module_version": "1.5.0",
            "_model_name": "HTMLModel",
            "_view_count": null,
            "_view_module": "@jupyter-widgets/controls",
            "_view_module_version": "1.5.0",
            "_view_name": "HTMLView",
            "description": "",
            "description_tooltip": null,
            "layout": "IPY_MODEL_6a0aff9a0f6348df88ff29f5f614db90",
            "placeholder": "​",
            "style": "IPY_MODEL_53f97062d944483f853d66cc08cb8827",
            "value": "README.md: 100%"
          }
        },
        "53f97062d944483f853d66cc08cb8827": {
          "model_module": "@jupyter-widgets/controls",
          "model_module_version": "1.5.0",
          "model_name": "DescriptionStyleModel",
          "state": {
            "_model_module": "@jupyter-widgets/controls",
            "_model_module_version": "1.5.0",
            "_model_name": "DescriptionStyleModel",
            "_view_count": null,
            "_view_module": "@jupyter-widgets/base",
            "_view_module_version": "1.2.0",
            "_view_name": "StyleView",
            "description_width": ""
          }
        },
        "542dc5c8061044d9a14508f05fcef6cc": {
          "model_module": "@jupyter-widgets/base",
          "model_module_version": "1.2.0",
          "model_name": "LayoutModel",
          "state": {
            "_model_module": "@jupyter-widgets/base",
            "_model_module_version": "1.2.0",
            "_model_name": "LayoutModel",
            "_view_count": null,
            "_view_module": "@jupyter-widgets/base",
            "_view_module_version": "1.2.0",
            "_view_name": "LayoutView",
            "align_content": null,
            "align_items": null,
            "align_self": null,
            "border": null,
            "bottom": null,
            "display": null,
            "flex": null,
            "flex_flow": null,
            "grid_area": null,
            "grid_auto_columns": null,
            "grid_auto_flow": null,
            "grid_auto_rows": null,
            "grid_column": null,
            "grid_gap": null,
            "grid_row": null,
            "grid_template_areas": null,
            "grid_template_columns": null,
            "grid_template_rows": null,
            "height": null,
            "justify_content": null,
            "justify_items": null,
            "left": null,
            "margin": null,
            "max_height": null,
            "max_width": null,
            "min_height": null,
            "min_width": null,
            "object_fit": null,
            "object_position": null,
            "order": null,
            "overflow": null,
            "overflow_x": null,
            "overflow_y": null,
            "padding": null,
            "right": null,
            "top": null,
            "visibility": null,
            "width": null
          }
        },
        "55b8e295d94644ceba6c2561fc2ddbf6": {
          "model_module": "@jupyter-widgets/base",
          "model_module_version": "1.2.0",
          "model_name": "LayoutModel",
          "state": {
            "_model_module": "@jupyter-widgets/base",
            "_model_module_version": "1.2.0",
            "_model_name": "LayoutModel",
            "_view_count": null,
            "_view_module": "@jupyter-widgets/base",
            "_view_module_version": "1.2.0",
            "_view_name": "LayoutView",
            "align_content": null,
            "align_items": null,
            "align_self": null,
            "border": null,
            "bottom": null,
            "display": null,
            "flex": null,
            "flex_flow": null,
            "grid_area": null,
            "grid_auto_columns": null,
            "grid_auto_flow": null,
            "grid_auto_rows": null,
            "grid_column": null,
            "grid_gap": null,
            "grid_row": null,
            "grid_template_areas": null,
            "grid_template_columns": null,
            "grid_template_rows": null,
            "height": null,
            "justify_content": null,
            "justify_items": null,
            "left": null,
            "margin": null,
            "max_height": null,
            "max_width": null,
            "min_height": null,
            "min_width": null,
            "object_fit": null,
            "object_position": null,
            "order": null,
            "overflow": null,
            "overflow_x": null,
            "overflow_y": null,
            "padding": null,
            "right": null,
            "top": null,
            "visibility": null,
            "width": null
          }
        },
        "5ab1fcf5e79d4a3c8833c76c50c694d1": {
          "model_module": "@jupyter-widgets/controls",
          "model_module_version": "1.5.0",
          "model_name": "HTMLModel",
          "state": {
            "_dom_classes": [],
            "_model_module": "@jupyter-widgets/controls",
            "_model_module_version": "1.5.0",
            "_model_name": "HTMLModel",
            "_view_count": null,
            "_view_module": "@jupyter-widgets/controls",
            "_view_module_version": "1.5.0",
            "_view_name": "HTMLView",
            "description": "",
            "description_tooltip": null,
            "layout": "IPY_MODEL_14a917d0924b49ad86f7d4dc7c619b15",
            "placeholder": "​",
            "style": "IPY_MODEL_20acfd98e40146ddbef55a763dc2a973",
            "value": " 32332/32332 [00:00&lt;00:00, 317044.13 examples/s]"
          }
        },
        "617a6d07b6cf458b9b9a79526cf05322": {
          "model_module": "@jupyter-widgets/controls",
          "model_module_version": "1.5.0",
          "model_name": "HTMLModel",
          "state": {
            "_dom_classes": [],
            "_model_module": "@jupyter-widgets/controls",
            "_model_module_version": "1.5.0",
            "_model_name": "HTMLModel",
            "_view_count": null,
            "_view_module": "@jupyter-widgets/controls",
            "_view_module_version": "1.5.0",
            "_view_name": "HTMLView",
            "description": "",
            "description_tooltip": null,
            "layout": "IPY_MODEL_bc8bf9d72b10420db8198c3dbe02a3a2",
            "placeholder": "​",
            "style": "IPY_MODEL_899d6c908a9942aeb5afc970596ce124",
            "value": "train-00000-of-00001.parquet: 100%"
          }
        },
        "6430bdb3504d4ed3bc6bda66f648711e": {
          "model_module": "@jupyter-widgets/controls",
          "model_module_version": "1.5.0",
          "model_name": "DescriptionStyleModel",
          "state": {
            "_model_module": "@jupyter-widgets/controls",
            "_model_module_version": "1.5.0",
            "_model_name": "DescriptionStyleModel",
            "_view_count": null,
            "_view_module": "@jupyter-widgets/base",
            "_view_module_version": "1.2.0",
            "_view_name": "StyleView",
            "description_width": ""
          }
        },
        "65dc2fe9036c4f9da807a8d38d9c7fa1": {
          "model_module": "@jupyter-widgets/base",
          "model_module_version": "1.2.0",
          "model_name": "LayoutModel",
          "state": {
            "_model_module": "@jupyter-widgets/base",
            "_model_module_version": "1.2.0",
            "_model_name": "LayoutModel",
            "_view_count": null,
            "_view_module": "@jupyter-widgets/base",
            "_view_module_version": "1.2.0",
            "_view_name": "LayoutView",
            "align_content": null,
            "align_items": null,
            "align_self": null,
            "border": null,
            "bottom": null,
            "display": null,
            "flex": null,
            "flex_flow": null,
            "grid_area": null,
            "grid_auto_columns": null,
            "grid_auto_flow": null,
            "grid_auto_rows": null,
            "grid_column": null,
            "grid_gap": null,
            "grid_row": null,
            "grid_template_areas": null,
            "grid_template_columns": null,
            "grid_template_rows": null,
            "height": null,
            "justify_content": null,
            "justify_items": null,
            "left": null,
            "margin": null,
            "max_height": null,
            "max_width": null,
            "min_height": null,
            "min_width": null,
            "object_fit": null,
            "object_position": null,
            "order": null,
            "overflow": null,
            "overflow_x": null,
            "overflow_y": null,
            "padding": null,
            "right": null,
            "top": null,
            "visibility": null,
            "width": null
          }
        },
        "6a0aff9a0f6348df88ff29f5f614db90": {
          "model_module": "@jupyter-widgets/base",
          "model_module_version": "1.2.0",
          "model_name": "LayoutModel",
          "state": {
            "_model_module": "@jupyter-widgets/base",
            "_model_module_version": "1.2.0",
            "_model_name": "LayoutModel",
            "_view_count": null,
            "_view_module": "@jupyter-widgets/base",
            "_view_module_version": "1.2.0",
            "_view_name": "LayoutView",
            "align_content": null,
            "align_items": null,
            "align_self": null,
            "border": null,
            "bottom": null,
            "display": null,
            "flex": null,
            "flex_flow": null,
            "grid_area": null,
            "grid_auto_columns": null,
            "grid_auto_flow": null,
            "grid_auto_rows": null,
            "grid_column": null,
            "grid_gap": null,
            "grid_row": null,
            "grid_template_areas": null,
            "grid_template_columns": null,
            "grid_template_rows": null,
            "height": null,
            "justify_content": null,
            "justify_items": null,
            "left": null,
            "margin": null,
            "max_height": null,
            "max_width": null,
            "min_height": null,
            "min_width": null,
            "object_fit": null,
            "object_position": null,
            "order": null,
            "overflow": null,
            "overflow_x": null,
            "overflow_y": null,
            "padding": null,
            "right": null,
            "top": null,
            "visibility": null,
            "width": null
          }
        },
        "873a98674c4743279e01f8901f25a0dc": {
          "model_module": "@jupyter-widgets/base",
          "model_module_version": "1.2.0",
          "model_name": "LayoutModel",
          "state": {
            "_model_module": "@jupyter-widgets/base",
            "_model_module_version": "1.2.0",
            "_model_name": "LayoutModel",
            "_view_count": null,
            "_view_module": "@jupyter-widgets/base",
            "_view_module_version": "1.2.0",
            "_view_name": "LayoutView",
            "align_content": null,
            "align_items": null,
            "align_self": null,
            "border": null,
            "bottom": null,
            "display": null,
            "flex": null,
            "flex_flow": null,
            "grid_area": null,
            "grid_auto_columns": null,
            "grid_auto_flow": null,
            "grid_auto_rows": null,
            "grid_column": null,
            "grid_gap": null,
            "grid_row": null,
            "grid_template_areas": null,
            "grid_template_columns": null,
            "grid_template_rows": null,
            "height": null,
            "justify_content": null,
            "justify_items": null,
            "left": null,
            "margin": null,
            "max_height": null,
            "max_width": null,
            "min_height": null,
            "min_width": null,
            "object_fit": null,
            "object_position": null,
            "order": null,
            "overflow": null,
            "overflow_x": null,
            "overflow_y": null,
            "padding": null,
            "right": null,
            "top": null,
            "visibility": null,
            "width": null
          }
        },
        "899d6c908a9942aeb5afc970596ce124": {
          "model_module": "@jupyter-widgets/controls",
          "model_module_version": "1.5.0",
          "model_name": "DescriptionStyleModel",
          "state": {
            "_model_module": "@jupyter-widgets/controls",
            "_model_module_version": "1.5.0",
            "_model_name": "DescriptionStyleModel",
            "_view_count": null,
            "_view_module": "@jupyter-widgets/base",
            "_view_module_version": "1.2.0",
            "_view_name": "StyleView",
            "description_width": ""
          }
        },
        "921a1341c31a460b832bb9bf31454fa5": {
          "model_module": "@jupyter-widgets/controls",
          "model_module_version": "1.5.0",
          "model_name": "FloatProgressModel",
          "state": {
            "_dom_classes": [],
            "_model_module": "@jupyter-widgets/controls",
            "_model_module_version": "1.5.0",
            "_model_name": "FloatProgressModel",
            "_view_count": null,
            "_view_module": "@jupyter-widgets/controls",
            "_view_module_version": "1.5.0",
            "_view_name": "ProgressView",
            "bar_style": "success",
            "description": "",
            "description_tooltip": null,
            "layout": "IPY_MODEL_fd5a57e508494670aa91ffe18eae1dc1",
            "max": 32332,
            "min": 0,
            "orientation": "horizontal",
            "style": "IPY_MODEL_bfd3d86eef1644098848313740173f75",
            "value": 32332
          }
        },
        "a11aa3fb114e41d786dcb2aca067971a": {
          "model_module": "@jupyter-widgets/controls",
          "model_module_version": "1.5.0",
          "model_name": "HTMLModel",
          "state": {
            "_dom_classes": [],
            "_model_module": "@jupyter-widgets/controls",
            "_model_module_version": "1.5.0",
            "_model_name": "HTMLModel",
            "_view_count": null,
            "_view_module": "@jupyter-widgets/controls",
            "_view_module_version": "1.5.0",
            "_view_name": "HTMLView",
            "description": "",
            "description_tooltip": null,
            "layout": "IPY_MODEL_65dc2fe9036c4f9da807a8d38d9c7fa1",
            "placeholder": "​",
            "style": "IPY_MODEL_ae0352e6d625470db24346cedb28fdc8",
            "value": "Generating train split: 100%"
          }
        },
        "a967bd28de4146f58fb72d7b9c5d972f": {
          "model_module": "@jupyter-widgets/controls",
          "model_module_version": "1.5.0",
          "model_name": "HBoxModel",
          "state": {
            "_dom_classes": [],
            "_model_module": "@jupyter-widgets/controls",
            "_model_module_version": "1.5.0",
            "_model_name": "HBoxModel",
            "_view_count": null,
            "_view_module": "@jupyter-widgets/controls",
            "_view_module_version": "1.5.0",
            "_view_name": "HBoxView",
            "box_style": "",
            "children": [
              "IPY_MODEL_617a6d07b6cf458b9b9a79526cf05322",
              "IPY_MODEL_0c44e5a2825249f787520778054bd396",
              "IPY_MODEL_38e54d17612c4119aa1886ad0c836931"
            ],
            "layout": "IPY_MODEL_55b8e295d94644ceba6c2561fc2ddbf6"
          }
        },
        "ae0352e6d625470db24346cedb28fdc8": {
          "model_module": "@jupyter-widgets/controls",
          "model_module_version": "1.5.0",
          "model_name": "DescriptionStyleModel",
          "state": {
            "_model_module": "@jupyter-widgets/controls",
            "_model_module_version": "1.5.0",
            "_model_name": "DescriptionStyleModel",
            "_view_count": null,
            "_view_module": "@jupyter-widgets/base",
            "_view_module_version": "1.2.0",
            "_view_name": "StyleView",
            "description_width": ""
          }
        },
        "bc8bf9d72b10420db8198c3dbe02a3a2": {
          "model_module": "@jupyter-widgets/base",
          "model_module_version": "1.2.0",
          "model_name": "LayoutModel",
          "state": {
            "_model_module": "@jupyter-widgets/base",
            "_model_module_version": "1.2.0",
            "_model_name": "LayoutModel",
            "_view_count": null,
            "_view_module": "@jupyter-widgets/base",
            "_view_module_version": "1.2.0",
            "_view_name": "LayoutView",
            "align_content": null,
            "align_items": null,
            "align_self": null,
            "border": null,
            "bottom": null,
            "display": null,
            "flex": null,
            "flex_flow": null,
            "grid_area": null,
            "grid_auto_columns": null,
            "grid_auto_flow": null,
            "grid_auto_rows": null,
            "grid_column": null,
            "grid_gap": null,
            "grid_row": null,
            "grid_template_areas": null,
            "grid_template_columns": null,
            "grid_template_rows": null,
            "height": null,
            "justify_content": null,
            "justify_items": null,
            "left": null,
            "margin": null,
            "max_height": null,
            "max_width": null,
            "min_height": null,
            "min_width": null,
            "object_fit": null,
            "object_position": null,
            "order": null,
            "overflow": null,
            "overflow_x": null,
            "overflow_y": null,
            "padding": null,
            "right": null,
            "top": null,
            "visibility": null,
            "width": null
          }
        },
        "bfd3d86eef1644098848313740173f75": {
          "model_module": "@jupyter-widgets/controls",
          "model_module_version": "1.5.0",
          "model_name": "ProgressStyleModel",
          "state": {
            "_model_module": "@jupyter-widgets/controls",
            "_model_module_version": "1.5.0",
            "_model_name": "ProgressStyleModel",
            "_view_count": null,
            "_view_module": "@jupyter-widgets/base",
            "_view_module_version": "1.2.0",
            "_view_name": "StyleView",
            "bar_color": null,
            "description_width": ""
          }
        },
        "cc8928d4dc1e4f9b90a54e1e0515f3c7": {
          "model_module": "@jupyter-widgets/controls",
          "model_module_version": "1.5.0",
          "model_name": "FloatProgressModel",
          "state": {
            "_dom_classes": [],
            "_model_module": "@jupyter-widgets/controls",
            "_model_module_version": "1.5.0",
            "_model_name": "FloatProgressModel",
            "_view_count": null,
            "_view_module": "@jupyter-widgets/controls",
            "_view_module_version": "1.5.0",
            "_view_name": "ProgressView",
            "bar_style": "success",
            "description": "",
            "description_tooltip": null,
            "layout": "IPY_MODEL_15676ac21eb2476ea9d840b26d747cb6",
            "max": 28064,
            "min": 0,
            "orientation": "horizontal",
            "style": "IPY_MODEL_e53330e5789b4c1cbd01894a4f725b76",
            "value": 28064
          }
        },
        "cce15278333d451280ddeae44d7e2404": {
          "model_module": "@jupyter-widgets/base",
          "model_module_version": "1.2.0",
          "model_name": "LayoutModel",
          "state": {
            "_model_module": "@jupyter-widgets/base",
            "_model_module_version": "1.2.0",
            "_model_name": "LayoutModel",
            "_view_count": null,
            "_view_module": "@jupyter-widgets/base",
            "_view_module_version": "1.2.0",
            "_view_name": "LayoutView",
            "align_content": null,
            "align_items": null,
            "align_self": null,
            "border": null,
            "bottom": null,
            "display": null,
            "flex": null,
            "flex_flow": null,
            "grid_area": null,
            "grid_auto_columns": null,
            "grid_auto_flow": null,
            "grid_auto_rows": null,
            "grid_column": null,
            "grid_gap": null,
            "grid_row": null,
            "grid_template_areas": null,
            "grid_template_columns": null,
            "grid_template_rows": null,
            "height": null,
            "justify_content": null,
            "justify_items": null,
            "left": null,
            "margin": null,
            "max_height": null,
            "max_width": null,
            "min_height": null,
            "min_width": null,
            "object_fit": null,
            "object_position": null,
            "order": null,
            "overflow": null,
            "overflow_x": null,
            "overflow_y": null,
            "padding": null,
            "right": null,
            "top": null,
            "visibility": null,
            "width": null
          }
        },
        "d8cf4594b5fa46abb39cedb4832ae3c6": {
          "model_module": "@jupyter-widgets/controls",
          "model_module_version": "1.5.0",
          "model_name": "HBoxModel",
          "state": {
            "_dom_classes": [],
            "_model_module": "@jupyter-widgets/controls",
            "_model_module_version": "1.5.0",
            "_model_name": "HBoxModel",
            "_view_count": null,
            "_view_module": "@jupyter-widgets/controls",
            "_view_module_version": "1.5.0",
            "_view_name": "HBoxView",
            "box_style": "",
            "children": [
              "IPY_MODEL_a11aa3fb114e41d786dcb2aca067971a",
              "IPY_MODEL_921a1341c31a460b832bb9bf31454fa5",
              "IPY_MODEL_5ab1fcf5e79d4a3c8833c76c50c694d1"
            ],
            "layout": "IPY_MODEL_cce15278333d451280ddeae44d7e2404"
          }
        },
        "dde1b7f5b0614ac7be0d7bf9c97571e7": {
          "model_module": "@jupyter-widgets/controls",
          "model_module_version": "1.5.0",
          "model_name": "DescriptionStyleModel",
          "state": {
            "_model_module": "@jupyter-widgets/controls",
            "_model_module_version": "1.5.0",
            "_model_name": "DescriptionStyleModel",
            "_view_count": null,
            "_view_module": "@jupyter-widgets/base",
            "_view_module_version": "1.2.0",
            "_view_name": "StyleView",
            "description_width": ""
          }
        },
        "e53330e5789b4c1cbd01894a4f725b76": {
          "model_module": "@jupyter-widgets/controls",
          "model_module_version": "1.5.0",
          "model_name": "ProgressStyleModel",
          "state": {
            "_model_module": "@jupyter-widgets/controls",
            "_model_module_version": "1.5.0",
            "_model_name": "ProgressStyleModel",
            "_view_count": null,
            "_view_module": "@jupyter-widgets/base",
            "_view_module_version": "1.2.0",
            "_view_name": "StyleView",
            "bar_color": null,
            "description_width": ""
          }
        },
        "e5bc38adf37949808730d7d283c4cfd6": {
          "model_module": "@jupyter-widgets/controls",
          "model_module_version": "1.5.0",
          "model_name": "ProgressStyleModel",
          "state": {
            "_model_module": "@jupyter-widgets/controls",
            "_model_module_version": "1.5.0",
            "_model_name": "ProgressStyleModel",
            "_view_count": null,
            "_view_module": "@jupyter-widgets/base",
            "_view_module_version": "1.2.0",
            "_view_name": "StyleView",
            "bar_color": null,
            "description_width": ""
          }
        },
        "f8b3ba66e6364a11a034078acb4b97a3": {
          "model_module": "@jupyter-widgets/controls",
          "model_module_version": "1.5.0",
          "model_name": "HTMLModel",
          "state": {
            "_dom_classes": [],
            "_model_module": "@jupyter-widgets/controls",
            "_model_module_version": "1.5.0",
            "_model_name": "HTMLModel",
            "_view_count": null,
            "_view_module": "@jupyter-widgets/controls",
            "_view_module_version": "1.5.0",
            "_view_name": "HTMLView",
            "description": "",
            "description_tooltip": null,
            "layout": "IPY_MODEL_873a98674c4743279e01f8901f25a0dc",
            "placeholder": "​",
            "style": "IPY_MODEL_6430bdb3504d4ed3bc6bda66f648711e",
            "value": " 28.1k/28.1k [00:00&lt;00:00, 1.65MB/s]"
          }
        },
        "fd5a57e508494670aa91ffe18eae1dc1": {
          "model_module": "@jupyter-widgets/base",
          "model_module_version": "1.2.0",
          "model_name": "LayoutModel",
          "state": {
            "_model_module": "@jupyter-widgets/base",
            "_model_module_version": "1.2.0",
            "_model_name": "LayoutModel",
            "_view_count": null,
            "_view_module": "@jupyter-widgets/base",
            "_view_module_version": "1.2.0",
            "_view_name": "LayoutView",
            "align_content": null,
            "align_items": null,
            "align_self": null,
            "border": null,
            "bottom": null,
            "display": null,
            "flex": null,
            "flex_flow": null,
            "grid_area": null,
            "grid_auto_columns": null,
            "grid_auto_flow": null,
            "grid_auto_rows": null,
            "grid_column": null,
            "grid_gap": null,
            "grid_row": null,
            "grid_template_areas": null,
            "grid_template_columns": null,
            "grid_template_rows": null,
            "height": null,
            "justify_content": null,
            "justify_items": null,
            "left": null,
            "margin": null,
            "max_height": null,
            "max_width": null,
            "min_height": null,
            "min_width": null,
            "object_fit": null,
            "object_position": null,
            "order": null,
            "overflow": null,
            "overflow_x": null,
            "overflow_y": null,
            "padding": null,
            "right": null,
            "top": null,
            "visibility": null,
            "width": null
          }
        }
      }
    }
  },
  "nbformat": 4,
  "nbformat_minor": 0
}
